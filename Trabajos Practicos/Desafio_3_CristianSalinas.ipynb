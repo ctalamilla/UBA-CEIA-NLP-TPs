{
  "cells": [
    {
      "cell_type": "markdown",
      "metadata": {
        "id": "g3yeJGnCYxuF"
      },
      "source": [
        "<img src=\"https://github.com/hernancontigiani/ceia_memorias_especializacion/raw/master/Figures/logoFIUBA.jpg\" width=\"500\" align=\"center\">\n",
        "\n",
        "\n",
        "# Procesamiento de lenguaje natural\n",
        "## Modelo de lenguaje con tokenización por caracteres"
      ]
    },
    {
      "cell_type": "markdown",
      "metadata": {
        "id": "Iv5PEwGzZA9-"
      },
      "source": [
        "### Consigna\n",
        "- Seleccionar un corpus de texto sobre el cual entrenar el modelo de lenguaje.\n",
        "- Realizar el pre-procesamiento adecuado para tokenizar el corpus, estructurar el dataset y separar entre datos de entrenamiento y validación.\n",
        "- Proponer arquitecturas de redes neuronales basadas en unidades recurrentes para implementar un modelo de lenguaje.\n",
        "- Con el o los modelos que consideren adecuados, generar nuevas secuencias a partir de secuencias de contexto con las estrategias de greedy search y beam search determístico y estocástico. En este último caso observar el efecto de la temperatura en la generación de secuencias.\n",
        "\n",
        "\n",
        "### Sugerencias\n",
        "- Durante el entrenamiento, guiarse por el descenso de la perplejidad en los datos de validación para finalizar el entrenamiento. Para ello se provee un callback.\n",
        "- Explorar utilizar SimpleRNN (celda de Elman), LSTM y GRU.\n",
        "- rmsprop es el optimizador recomendado para la buena convergencia. No obstante se pueden explorar otros.\n"
      ]
    },
    {
      "cell_type": "code",
      "execution_count": 1,
      "metadata": {
        "id": "Y-QdFbHZYj7C"
      },
      "outputs": [],
      "source": [
        "import random\n",
        "import io\n",
        "import pickle\n",
        "\n",
        "import numpy as np\n",
        "import pandas as pd\n",
        "import matplotlib.pyplot as plt\n",
        "from sklearn.model_selection import train_test_split\n",
        "\n",
        "from tensorflow import keras\n",
        "from tensorflow.keras import layers\n",
        "from keras.utils import to_categorical\n",
        "from keras.models import Sequential\n",
        "from keras.layers import Dense, LSTM, Embedding, Dropout\n",
        "from tensorflow.keras.losses import SparseCategoricalCrossentropy"
      ]
    },
    {
      "cell_type": "markdown",
      "metadata": {
        "id": "xTvXlEKQZdqx"
      },
      "source": [
        "### Datos\n",
        "Utilizaremos como dataset canciones de bandas de habla inglés."
      ]
    },
    {
      "cell_type": "code",
      "execution_count": 2,
      "metadata": {
        "id": "7amy6uUaBLVD"
      },
      "outputs": [],
      "source": [
        "# descargar de textos.info\n",
        "import urllib.request\n",
        "\n",
        "# Para leer y parsear el texto en HTML de wikipedia\n",
        "import bs4 as bs"
      ]
    },
    {
      "cell_type": "code",
      "execution_count": 3,
      "metadata": {
        "id": "6v_ickFwBJTy"
      },
      "outputs": [],
      "source": [
        "raw_html = urllib.request.urlopen('https://www.textos.info/edgar-allan-poe/el-corazon-delator/ebook')\n",
        "raw_html = raw_html.read()\n",
        "\n",
        "# Parsear artículo, 'lxml' es el parser a utilizar\n",
        "article_html = bs.BeautifulSoup(raw_html, 'lxml')\n",
        "\n",
        "# Encontrar todos los párrafos del HTML (bajo el tag <p>)\n",
        "# y tenerlos disponible como lista\n",
        "article_paragraphs = article_html.find_all('p')\n",
        "\n",
        "article_text = ''\n",
        "\n",
        "for para in article_paragraphs:\n",
        "    article_text += para.text + ' '\n",
        "\n",
        "# pasar todo el texto a minúscula\n",
        "article_text = article_text.lower()"
      ]
    },
    {
      "cell_type": "code",
      "execution_count": 4,
      "metadata": {
        "id": "WBE0sSYuB-E6",
        "colab": {
          "base_uri": "https://localhost:8080/",
          "height": 192
        },
        "outputId": "368d800f-694c-4a7a-9719-edd9f9afdfed"
      },
      "outputs": [
        {
          "output_type": "execute_result",
          "data": {
            "text/plain": [
              "' ¡es verdad! nervioso, muy, muy terriblemente nervioso yo había sido y\\r\\n soy; ¿pero por qué dirán ustedes que soy loco? la enfermedad había \\r\\naguzado mis sentidos, no destruido, no entorpecido. sobre todo estaba la\\r\\n penetrante capacidad de oír. yo oí todas las cosas en el cielo y en la \\r\\ntierra. yo oí muchas cosas en el infierno. ¿cómo entonces soy yo loco? \\r\\n¡escuchen! y observen cuan razonablemente, cuan serenamente, puedo \\r\\ncontarles toda la historia. es imposible decir cómo primero la idea entró en mi cerebro, pero, \\r\\nuna vez concebida, me acosó día y noche. objeto no había ninguno. pasión\\r\\n no había ninguna. yo amé al viejo. el nunca me había hecho mal. él no \\r\\nme había insultado. de su oro no tuve ningún deseo. ¡creo que fue su ojo! sí, ¡fue eso! \\r\\nuno de sus ojos parecía como el de un buitre — un ojo azul pálido con \\r\\nuna nube encima. cada vez que caía sobre mí, la sangre se me helaba, y entonces de a \\r\\npoco, muy gradualmente, me decidí a tomar la vida del viejo, y así \\r\\nlibrar'"
            ],
            "application/vnd.google.colaboratory.intrinsic+json": {
              "type": "string"
            }
          },
          "metadata": {},
          "execution_count": 4
        }
      ],
      "source": [
        "# en article text se encuentra el texto de todo el libro\n",
        "article_text[:1000]"
      ]
    },
    {
      "cell_type": "markdown",
      "metadata": {
        "id": "cP1JdiOIKQWi"
      },
      "source": [
        "### Elegir el tamaño del contexto\n",
        "\n",
        "En este caso, como el modelo de lenguaje es por caracteres, todo un gran corpus\n",
        "de texto puede ser considerado un documento en sí mismo y el tamaño de contexto\n",
        "puede ser elegido con más libertad en comparación a un modelo de lenguaje tokenizado por palabras y dividido en documentos más acotados."
      ]
    },
    {
      "cell_type": "code",
      "execution_count": 5,
      "metadata": {
        "id": "wumBNwdjJM3j"
      },
      "outputs": [],
      "source": [
        "# seleccionamos el tamaño de contexto\n",
        "max_context_size = 60"
      ]
    },
    {
      "cell_type": "code",
      "execution_count": 6,
      "metadata": {
        "id": "m5FeTaGvbDbw"
      },
      "outputs": [],
      "source": [
        "# Usaremos las utilidades de procesamiento de textos y secuencias de Keras\n",
        "from tensorflow.keras.utils import pad_sequences # se utilizará para padding"
      ]
    },
    {
      "cell_type": "code",
      "execution_count": 7,
      "metadata": {
        "id": "573Cg5n7VhWw"
      },
      "outputs": [],
      "source": [
        "# en este caso el vocabulario es el conjunto único de caracteres que existe en todo el texto\n",
        "chars_vocab = set(article_text)"
      ]
    },
    {
      "cell_type": "code",
      "execution_count": 8,
      "metadata": {
        "id": "VwTK6xgLJd8q",
        "colab": {
          "base_uri": "https://localhost:8080/"
        },
        "outputId": "e8e41209-d9ef-41fe-da6c-4c68670a432b"
      },
      "outputs": [
        {
          "output_type": "execute_result",
          "data": {
            "text/plain": [
              "56"
            ]
          },
          "metadata": {},
          "execution_count": 8
        }
      ],
      "source": [
        "# la longitud de vocabulario de caracteres es:\n",
        "len(chars_vocab)"
      ]
    },
    {
      "cell_type": "code",
      "execution_count": 9,
      "metadata": {
        "id": "2W0AeQjXV1Ou"
      },
      "outputs": [],
      "source": [
        "# Construimos los dicionarios que asignan índices a caracteres y viceversa.\n",
        "# El diccionario `char2idx` servirá como tokenizador.\n",
        "char2idx = {k: v for v,k in enumerate(chars_vocab)}\n",
        "idx2char = {v: k for k,v in char2idx.items()}"
      ]
    },
    {
      "cell_type": "markdown",
      "metadata": {
        "id": "2oIUjVU0LB0r"
      },
      "source": [
        "###  Tokenizar"
      ]
    },
    {
      "cell_type": "code",
      "execution_count": 10,
      "metadata": {
        "id": "h07G3srdJppo"
      },
      "outputs": [],
      "source": [
        "# tokenizamos el texto completo\n",
        "tokenized_text = [char2idx[ch] for ch in article_text]"
      ]
    },
    {
      "cell_type": "code",
      "execution_count": 11,
      "metadata": {
        "id": "PwGVSKOiJ5bj",
        "colab": {
          "base_uri": "https://localhost:8080/"
        },
        "outputId": "311d6e3c-64da-43a3-8658-5fe92f78d0a6"
      },
      "outputs": [
        {
          "output_type": "execute_result",
          "data": {
            "text/plain": [
              "[22,\n",
              " 53,\n",
              " 10,\n",
              " 19,\n",
              " 22,\n",
              " 37,\n",
              " 10,\n",
              " 25,\n",
              " 28,\n",
              " 13,\n",
              " 28,\n",
              " 23,\n",
              " 22,\n",
              " 14,\n",
              " 10,\n",
              " 25,\n",
              " 37,\n",
              " 40,\n",
              " 42,\n",
              " 19,\n",
              " 42,\n",
              " 52,\n",
              " 22,\n",
              " 2,\n",
              " 17,\n",
              " 49,\n",
              " 52,\n",
              " 22,\n",
              " 2,\n",
              " 17,\n",
              " 49,\n",
              " 22,\n",
              " 34,\n",
              " 10,\n",
              " 25,\n",
              " 25,\n",
              " 40,\n",
              " 26,\n",
              " 30,\n",
              " 10,\n",
              " 2,\n",
              " 10,\n",
              " 14,\n",
              " 34,\n",
              " 10,\n",
              " 22,\n",
              " 14,\n",
              " 10,\n",
              " 25,\n",
              " 37,\n",
              " 40,\n",
              " 42,\n",
              " 19,\n",
              " 42,\n",
              " 22,\n",
              " 49,\n",
              " 42,\n",
              " 22,\n",
              " 43,\n",
              " 13,\n",
              " 26,\n",
              " 44,\n",
              " 13,\n",
              " 22,\n",
              " 19,\n",
              " 40,\n",
              " 28,\n",
              " 42,\n",
              " 22,\n",
              " 49,\n",
              " 15,\n",
              " 39,\n",
              " 22,\n",
              " 19,\n",
              " 42,\n",
              " 49,\n",
              " 21,\n",
              " 22,\n",
              " 46,\n",
              " 45,\n",
              " 10,\n",
              " 25,\n",
              " 42,\n",
              " 22,\n",
              " 45,\n",
              " 42,\n",
              " 25,\n",
              " 22,\n",
              " 50,\n",
              " 17,\n",
              " 35,\n",
              " 22,\n",
              " 28,\n",
              " 40,\n",
              " 25,\n",
              " 54,\n",
              " 14,\n",
              " 22,\n",
              " 17,\n",
              " 19,\n",
              " 34,\n",
              " 10,\n",
              " 28,\n",
              " 10,\n",
              " 19,\n",
              " 22,\n",
              " 50,\n",
              " 17,\n",
              " 10,\n",
              " 22,\n",
              " 19,\n",
              " 42,\n",
              " 49,\n",
              " 22,\n",
              " 30,\n",
              " 42,\n",
              " 5,\n",
              " 42,\n",
              " 8,\n",
              " 22,\n",
              " 30,\n",
              " 13,\n",
              " 22,\n",
              " 10,\n",
              " 14,\n",
              " 7,\n",
              " 10,\n",
              " 25,\n",
              " 2,\n",
              " 10,\n",
              " 28,\n",
              " 13,\n",
              " 28,\n",
              " 22,\n",
              " 43,\n",
              " 13,\n",
              " 26,\n",
              " 44,\n",
              " 13,\n",
              " 22,\n",
              " 15,\n",
              " 39,\n",
              " 13,\n",
              " 12,\n",
              " 17,\n",
              " 51,\n",
              " 13,\n",
              " 28,\n",
              " 42,\n",
              " 22,\n",
              " 2,\n",
              " 40,\n",
              " 19,\n",
              " 22,\n",
              " 19,\n",
              " 10,\n",
              " 14,\n",
              " 34,\n",
              " 40,\n",
              " 28,\n",
              " 42,\n",
              " 19,\n",
              " 52,\n",
              " 22,\n",
              " 14,\n",
              " 42,\n",
              " 22,\n",
              " 28,\n",
              " 10,\n",
              " 19,\n",
              " 34,\n",
              " 25,\n",
              " 17,\n",
              " 40,\n",
              " 28,\n",
              " 42,\n",
              " 52,\n",
              " 22,\n",
              " 14,\n",
              " 42,\n",
              " 22,\n",
              " 10,\n",
              " 14,\n",
              " 34,\n",
              " 42,\n",
              " 25,\n",
              " 45,\n",
              " 10,\n",
              " 5,\n",
              " 40,\n",
              " 28,\n",
              " 42,\n",
              " 36,\n",
              " 22,\n",
              " 19,\n",
              " 42,\n",
              " 26,\n",
              " 25,\n",
              " 10,\n",
              " 22,\n",
              " 34,\n",
              " 42,\n",
              " 28,\n",
              " 42,\n",
              " 22,\n",
              " 10,\n",
              " 19,\n",
              " 34,\n",
              " 13,\n",
              " 26,\n",
              " 13,\n",
              " 22,\n",
              " 30,\n",
              " 13,\n",
              " 15,\n",
              " 39,\n",
              " 22,\n",
              " 45,\n",
              " 10,\n",
              " 14,\n",
              " 10,\n",
              " 34,\n",
              " 25,\n",
              " 13,\n",
              " 14,\n",
              " 34,\n",
              " 10,\n",
              " 22,\n",
              " 5,\n",
              " 13,\n",
              " 45,\n",
              " 13,\n",
              " 5,\n",
              " 40,\n",
              " 28,\n",
              " 13,\n",
              " 28,\n",
              " 22,\n",
              " 28,\n",
              " 10,\n",
              " 22,\n",
              " 42,\n",
              " 44,\n",
              " 25,\n",
              " 36,\n",
              " 22,\n",
              " 49,\n",
              " 42,\n",
              " 22,\n",
              " 42,\n",
              " 44,\n",
              " 22,\n",
              " 34,\n",
              " 42,\n",
              " 28,\n",
              " 13,\n",
              " 19,\n",
              " 22,\n",
              " 30,\n",
              " 13,\n",
              " 19,\n",
              " 22,\n",
              " 5,\n",
              " 42,\n",
              " 19,\n",
              " 13,\n",
              " 19,\n",
              " 22,\n",
              " 10,\n",
              " 14,\n",
              " 22,\n",
              " 10,\n",
              " 30,\n",
              " 22,\n",
              " 5,\n",
              " 40,\n",
              " 10,\n",
              " 30,\n",
              " 42,\n",
              " 22,\n",
              " 49,\n",
              " 22,\n",
              " 10,\n",
              " 14,\n",
              " 22,\n",
              " 30,\n",
              " 13,\n",
              " 22,\n",
              " 15,\n",
              " 39,\n",
              " 34,\n",
              " 40,\n",
              " 10,\n",
              " 25,\n",
              " 25,\n",
              " 13,\n",
              " 36,\n",
              " 22,\n",
              " 49,\n",
              " 42,\n",
              " 22,\n",
              " 42,\n",
              " 44,\n",
              " 22,\n",
              " 2,\n",
              " 17,\n",
              " 5,\n",
              " 43,\n",
              " 13,\n",
              " 19,\n",
              " 22,\n",
              " 5,\n",
              " 42,\n",
              " 19,\n",
              " 13,\n",
              " 19,\n",
              " 22,\n",
              " 10,\n",
              " 14,\n",
              " 22,\n",
              " 10,\n",
              " 30,\n",
              " 22,\n",
              " 40,\n",
              " 14,\n",
              " 7,\n",
              " 40,\n",
              " 10,\n",
              " 25,\n",
              " 14,\n",
              " 42,\n",
              " 36,\n",
              " 22,\n",
              " 46,\n",
              " 5,\n",
              " 3,\n",
              " 2,\n",
              " 42,\n",
              " 22,\n",
              " 10,\n",
              " 14,\n",
              " 34,\n",
              " 42,\n",
              " 14,\n",
              " 5,\n",
              " 10,\n",
              " 19,\n",
              " 22,\n",
              " 19,\n",
              " 42,\n",
              " 49,\n",
              " 22,\n",
              " 49,\n",
              " 42,\n",
              " 22,\n",
              " 30,\n",
              " 42,\n",
              " 5,\n",
              " 42,\n",
              " 8,\n",
              " 22,\n",
              " 15,\n",
              " 39,\n",
              " 53,\n",
              " 10,\n",
              " 19,\n",
              " 5,\n",
              " 17,\n",
              " 5,\n",
              " 43,\n",
              " 10,\n",
              " 14,\n",
              " 23,\n",
              " 22,\n",
              " 49,\n",
              " 22,\n",
              " 42,\n",
              " 26,\n",
              " 19,\n",
              " 10,\n",
              " 25,\n",
              " 37,\n",
              " 10,\n",
              " 14,\n",
              " 22,\n",
              " 5,\n",
              " 17,\n",
              " 13,\n",
              " 14,\n",
              " 22,\n",
              " 25,\n",
              " 13,\n",
              " 51,\n",
              " 42,\n",
              " 14,\n",
              " 13,\n",
              " 26,\n",
              " 30,\n",
              " 10,\n",
              " 2,\n",
              " 10,\n",
              " 14,\n",
              " 34,\n",
              " 10,\n",
              " 52,\n",
              " 22,\n",
              " 5,\n",
              " 17,\n",
              " 13,\n",
              " 14,\n",
              " 22,\n",
              " 19,\n",
              " 10,\n",
              " 25,\n",
              " 10,\n",
              " 14,\n",
              " 13,\n",
              " 2,\n",
              " 10,\n",
              " 14,\n",
              " 34,\n",
              " 10,\n",
              " 52,\n",
              " 22,\n",
              " 45,\n",
              " 17,\n",
              " 10,\n",
              " 28,\n",
              " 42,\n",
              " 22,\n",
              " 15,\n",
              " 39,\n",
              " 5,\n",
              " 42,\n",
              " 14,\n",
              " 34,\n",
              " 13,\n",
              " 25,\n",
              " 30,\n",
              " 10,\n",
              " 19,\n",
              " 22,\n",
              " 34,\n",
              " 42,\n",
              " 28,\n",
              " 13,\n",
              " 22,\n",
              " 30,\n",
              " 13,\n",
              " 22,\n",
              " 43,\n",
              " 40,\n",
              " 19,\n",
              " 34,\n",
              " 42,\n",
              " 25,\n",
              " 40,\n",
              " 13,\n",
              " 36,\n",
              " 22,\n",
              " 10,\n",
              " 19,\n",
              " 22,\n",
              " 40,\n",
              " 2,\n",
              " 45,\n",
              " 42,\n",
              " 19,\n",
              " 40,\n",
              " 26,\n",
              " 30,\n",
              " 10,\n",
              " 22,\n",
              " 28,\n",
              " 10,\n",
              " 5,\n",
              " 40,\n",
              " 25,\n",
              " 22,\n",
              " 5,\n",
              " 3,\n",
              " 2,\n",
              " 42,\n",
              " 22,\n",
              " 45,\n",
              " 25,\n",
              " 40,\n",
              " 2,\n",
              " 10,\n",
              " 25,\n",
              " 42,\n",
              " 22,\n",
              " 30,\n",
              " 13,\n",
              " 22,\n",
              " 40,\n",
              " 28,\n",
              " 10,\n",
              " 13,\n",
              " 22,\n",
              " 10,\n",
              " 14,\n",
              " 34,\n",
              " 25,\n",
              " 3,\n",
              " 22,\n",
              " 10,\n",
              " 14,\n",
              " 22,\n",
              " 2,\n",
              " 40,\n",
              " 22,\n",
              " 5,\n",
              " 10,\n",
              " 25,\n",
              " 10,\n",
              " 26,\n",
              " 25,\n",
              " 42,\n",
              " 52,\n",
              " 22,\n",
              " 45,\n",
              " 10,\n",
              " 25,\n",
              " 42,\n",
              " 52,\n",
              " 22,\n",
              " 15,\n",
              " 39,\n",
              " 17,\n",
              " 14,\n",
              " 13,\n",
              " 22,\n",
              " 37,\n",
              " 10,\n",
              " 51,\n",
              " 22,\n",
              " 5,\n",
              " 42,\n",
              " 14,\n",
              " 5,\n",
              " 10,\n",
              " 26,\n",
              " 40,\n",
              " 28,\n",
              " 13,\n",
              " 52,\n",
              " 22,\n",
              " 2,\n",
              " 10,\n",
              " 22,\n",
              " 13,\n",
              " 5,\n",
              " 42,\n",
              " 19,\n",
              " 3,\n",
              " 22,\n",
              " 28,\n",
              " 44,\n",
              " 13,\n",
              " 22,\n",
              " 49,\n",
              " 22,\n",
              " 14,\n",
              " 42,\n",
              " 5,\n",
              " 43,\n",
              " 10,\n",
              " 36,\n",
              " 22,\n",
              " 42,\n",
              " 26,\n",
              " 1,\n",
              " 10,\n",
              " 34,\n",
              " 42,\n",
              " 22,\n",
              " 14,\n",
              " 42,\n",
              " 22,\n",
              " 43,\n",
              " 13,\n",
              " 26,\n",
              " 44,\n",
              " 13,\n",
              " 22,\n",
              " 14,\n",
              " 40,\n",
              " 14,\n",
              " 12,\n",
              " 17,\n",
              " 14,\n",
              " 42,\n",
              " 36,\n",
              " 22,\n",
              " 45,\n",
              " 13,\n",
              " 19,\n",
              " 40,\n",
              " 3,\n",
              " 14,\n",
              " 15,\n",
              " 39,\n",
              " 22,\n",
              " 14,\n",
              " 42,\n",
              " 22,\n",
              " 43,\n",
              " 13,\n",
              " 26,\n",
              " 44,\n",
              " 13,\n",
              " 22,\n",
              " 14,\n",
              " 40,\n",
              " 14,\n",
              " 12,\n",
              " 17,\n",
              " 14,\n",
              " 13,\n",
              " 36,\n",
              " 22,\n",
              " 49,\n",
              " 42,\n",
              " 22,\n",
              " 13,\n",
              " 2,\n",
              " 35,\n",
              " 22,\n",
              " 13,\n",
              " 30,\n",
              " 22,\n",
              " 37,\n",
              " 40,\n",
              " 10,\n",
              " 1,\n",
              " 42,\n",
              " 36,\n",
              " 22,\n",
              " 10,\n",
              " 30,\n",
              " 22,\n",
              " 14,\n",
              " 17,\n",
              " 14,\n",
              " 5,\n",
              " 13,\n",
              " 22,\n",
              " 2,\n",
              " 10,\n",
              " 22,\n",
              " 43,\n",
              " 13,\n",
              " 26,\n",
              " 44,\n",
              " 13,\n",
              " 22,\n",
              " 43,\n",
              " 10,\n",
              " 5,\n",
              " 43,\n",
              " 42,\n",
              " 22,\n",
              " 2,\n",
              " 13,\n",
              " 30,\n",
              " 36,\n",
              " 22,\n",
              " 35,\n",
              " 30,\n",
              " 22,\n",
              " 14,\n",
              " 42,\n",
              " 22,\n",
              " 15,\n",
              " 39,\n",
              " 2,\n",
              " 10,\n",
              " 22,\n",
              " 43,\n",
              " 13,\n",
              " 26,\n",
              " 44,\n",
              " 13,\n",
              " 22,\n",
              " 40,\n",
              " 14,\n",
              " 19,\n",
              " 17,\n",
              " 30,\n",
              " 34,\n",
              " 13,\n",
              " 28,\n",
              " 42,\n",
              " 36,\n",
              " 22,\n",
              " 28,\n",
              " 10,\n",
              " 22,\n",
              " 19,\n",
              " 17,\n",
              " 22,\n",
              " 42,\n",
              " 25,\n",
              " 42,\n",
              " 22,\n",
              " 14,\n",
              " 42,\n",
              " 22,\n",
              " 34,\n",
              " 17,\n",
              " 37,\n",
              " 10,\n",
              " 22,\n",
              " 14,\n",
              " 40,\n",
              " 14,\n",
              " 12,\n",
              " 0,\n",
              " 14,\n",
              " 22,\n",
              " 28,\n",
              " 10,\n",
              " 19,\n",
              " 10,\n",
              " 42,\n",
              " 36,\n",
              " 22,\n",
              " 53,\n",
              " 5,\n",
              " 25,\n",
              " 10,\n",
              " 42,\n",
              " 22,\n",
              " 50,\n",
              " 17,\n",
              " 10,\n",
              " 22,\n",
              " 7,\n",
              " 17,\n",
              " 10,\n",
              " 22,\n",
              " 19,\n",
              " 17,\n",
              " 22,\n",
              " 42,\n",
              " 1,\n",
              " 42,\n",
              " 23,\n",
              " 22,\n",
              " 19,\n",
              " 44,\n",
              " 52,\n",
              " 22,\n",
              " 53,\n",
              " 7,\n",
              " 17,\n",
              " 10,\n",
              " 22,\n",
              " 10,\n",
              " 19,\n",
              " 42,\n",
              " 23,\n",
              " 22,\n",
              " 15,\n",
              " 39,\n",
              " 17,\n",
              " 14,\n",
              " 42,\n",
              " 22,\n",
              " 28,\n",
              " 10,\n",
              " 22,\n",
              " 19,\n",
              " 17,\n",
              " 19,\n",
              " 22,\n",
              " 42,\n",
              " 1,\n",
              " 42,\n",
              " 19,\n",
              " 22,\n",
              " 45,\n",
              " 13,\n",
              " 25,\n",
              " 10,\n",
              " 5,\n",
              " 44,\n",
              " 13,\n",
              " 22,\n",
              " 5,\n",
              " 42,\n",
              " 2,\n",
              " 42,\n",
              " 22,\n",
              " 10,\n",
              " 30,\n",
              " 22,\n",
              " 28,\n",
              " 10,\n",
              " 22,\n",
              " 17,\n",
              " 14,\n",
              " 22,\n",
              " 26,\n",
              " 17,\n",
              " 40,\n",
              " 34,\n",
              " 25,\n",
              " 10,\n",
              " 22,\n",
              " 18,\n",
              " 22,\n",
              " 17,\n",
              " 14,\n",
              " 22,\n",
              " 42,\n",
              " 1,\n",
              " 42,\n",
              " 22,\n",
              " 13,\n",
              " 51,\n",
              " 17,\n",
              " 30,\n",
              " 22,\n",
              " 45,\n",
              " 54,\n",
              " 30,\n",
              " 40,\n",
              " 28,\n",
              " 42,\n",
              " 22,\n",
              " 5,\n",
              " 42,\n",
              " 14,\n",
              " 22,\n",
              " 15,\n",
              " 39,\n",
              " 17,\n",
              " 14,\n",
              " 13,\n",
              " 22,\n",
              " 14,\n",
              " 17,\n",
              " 26,\n",
              " 10,\n",
              " 22,\n",
              " 10,\n",
              " 14,\n",
              " 5,\n",
              " 40,\n",
              " 2,\n",
              " 13,\n",
              " 36,\n",
              " 22,\n",
              " 5,\n",
              " 13,\n",
              " 28,\n",
              " 13,\n",
              " 22,\n",
              " 37,\n",
              " 10,\n",
              " 51,\n",
              " 22,\n",
              " 50,\n",
              " 17,\n",
              " 10,\n",
              " 22,\n",
              " 5,\n",
              " 13,\n",
              " 44,\n",
              " 13,\n",
              " 22,\n",
              " 19,\n",
              " 42,\n",
              " 26,\n",
              " 25,\n",
              " 10,\n",
              " 22,\n",
              " 2,\n",
              " 44,\n",
              " 52,\n",
              " 22,\n",
              " 30,\n",
              " 13,\n",
              " 22,\n",
              " 19,\n",
              " 13,\n",
              " 14,\n",
              " 12,\n",
              " 25,\n",
              " 10,\n",
              " 22,\n",
              " 19,\n",
              " 10,\n",
              " 22,\n",
              " 2,\n",
              " 10,\n",
              " 22,\n",
              " 43,\n",
              " 10,\n",
              " 30,\n",
              " 13,\n",
              " 26,\n",
              " 13,\n",
              " 52,\n",
              " 22,\n",
              " 49,\n",
              " 22,\n",
              " 10,\n",
              " 14,\n",
              " 34,\n",
              " 42,\n",
              " 14,\n",
              " 5,\n",
              " 10,\n",
              " 19,\n",
              " 22,\n",
              " 28,\n",
              " 10,\n",
              " 22,\n",
              " 13,\n",
              " 22,\n",
              " 15,\n",
              " 39,\n",
              " 45,\n",
              " 42,\n",
              " 5,\n",
              " 42,\n",
              " 52,\n",
              " 22,\n",
              " 2,\n",
              " 17,\n",
              " 49,\n",
              " 22,\n",
              " 12,\n",
              " 25,\n",
              " 13,\n",
              " 28,\n",
              " 17,\n",
              " 13,\n",
              " 30,\n",
              " 2,\n",
              " 10,\n",
              " 14,\n",
              " 34,\n",
              " 10,\n",
              " 52,\n",
              " 22,\n",
              " 2,\n",
              " 10,\n",
              " 22,\n",
              " 28,\n",
              " 10,\n",
              " 5,\n",
              " 40,\n",
              " 28,\n",
              " 44,\n",
              " 22,\n",
              " 13,\n",
              " 22,\n",
              " 34,\n",
              " 42,\n",
              " 2,\n",
              " 13,\n",
              " 25,\n",
              " 22,\n",
              " 30,\n",
              " 13,\n",
              " 22,\n",
              " 37,\n",
              " 40,\n",
              " 28,\n",
              " 13,\n",
              " 22,\n",
              " 28,\n",
              " 10,\n",
              " 30,\n",
              " 22,\n",
              " 37,\n",
              " 40,\n",
              " 10,\n",
              " 1,\n",
              " 42,\n",
              " 52,\n",
              " 22,\n",
              " 49,\n",
              " 22,\n",
              " 13,\n",
              " 19,\n",
              " 44,\n",
              " 22,\n",
              " 15,\n",
              " 39,\n",
              " 30,\n",
              " 40,\n",
              " 26,\n",
              " 25,\n",
              " 13,\n",
              " 25]"
            ]
          },
          "metadata": {},
          "execution_count": 11
        }
      ],
      "source": [
        "tokenized_text[:1000]"
      ]
    },
    {
      "cell_type": "markdown",
      "metadata": {
        "id": "pfpYcaypKcI9"
      },
      "source": [
        "### Organizando y estructurando el dataset"
      ]
    },
    {
      "cell_type": "code",
      "execution_count": 12,
      "metadata": {
        "id": "WSSmg9jtKP0T"
      },
      "outputs": [],
      "source": [
        "# separaremos el dataset entre entrenamiento y validación.\n",
        "# `p_val` será la proporción del corpus que se reservará para validación\n",
        "# `num_val` es la cantidad de secuencias de tamaño `max_context_size` que se usará en validación\n",
        "p_val = 0.1\n",
        "num_val = int(np.ceil(len(tokenized_text)*p_val/max_context_size))"
      ]
    },
    {
      "cell_type": "code",
      "execution_count": 13,
      "metadata": {
        "id": "b7dCpGrdKll0"
      },
      "outputs": [],
      "source": [
        "# separamos la porción de texto utilizada en entrenamiento de la de validación.\n",
        "train_text = tokenized_text[:-num_val*max_context_size]\n",
        "val_text = tokenized_text[-num_val*max_context_size:]"
      ]
    },
    {
      "cell_type": "code",
      "execution_count": 14,
      "metadata": {
        "id": "NmxQdxl8LRCg"
      },
      "outputs": [],
      "source": [
        "tokenized_sentences_val = [val_text[init*max_context_size:init*(max_context_size+1)] for init in range(num_val)]"
      ]
    },
    {
      "cell_type": "code",
      "execution_count": 15,
      "metadata": {
        "id": "_gyFT9koLqDm"
      },
      "outputs": [],
      "source": [
        "tokenized_sentences_train = [train_text[init:init+max_context_size] for init in range(len(train_text)-max_context_size+1)]"
      ]
    },
    {
      "cell_type": "code",
      "execution_count": 16,
      "metadata": {
        "id": "oVNqmmLRodT0"
      },
      "outputs": [],
      "source": [
        "X = np.array(tokenized_sentences_train[:-1])\n",
        "y = np.array(tokenized_sentences_train[1:])"
      ]
    },
    {
      "cell_type": "code",
      "source": [
        "X"
      ],
      "metadata": {
        "colab": {
          "base_uri": "https://localhost:8080/"
        },
        "id": "nccjFwNudC9y",
        "outputId": "86ab04c1-dc31-43fa-f17d-839a82971559"
      },
      "execution_count": 17,
      "outputs": [
        {
          "output_type": "execute_result",
          "data": {
            "text/plain": [
              "array([[22, 53, 10, ..., 22, 43, 13],\n",
              "       [53, 10, 19, ..., 43, 13, 26],\n",
              "       [10, 19, 22, ..., 13, 26, 44],\n",
              "       ...,\n",
              "       [ 5, 44, 13, ..., 26, 13, 22],\n",
              "       [44, 13, 22, ..., 13, 22, 19],\n",
              "       [13, 22, 25, ..., 22, 19, 42]])"
            ]
          },
          "metadata": {},
          "execution_count": 17
        }
      ]
    },
    {
      "cell_type": "code",
      "source": [
        "y"
      ],
      "metadata": {
        "colab": {
          "base_uri": "https://localhost:8080/"
        },
        "id": "uzEZLzh7dEZG",
        "outputId": "9c3bcbb0-5aba-4314-926c-c89b3599068c"
      },
      "execution_count": 18,
      "outputs": [
        {
          "output_type": "execute_result",
          "data": {
            "text/plain": [
              "array([[53, 10, 19, ..., 43, 13, 26],\n",
              "       [10, 19, 22, ..., 13, 26, 44],\n",
              "       [19, 22, 37, ..., 26, 44, 13],\n",
              "       ...,\n",
              "       [44, 13, 22, ..., 13, 22, 19],\n",
              "       [13, 22, 25, ..., 22, 19, 42],\n",
              "       [22, 25, 10, ..., 19, 42, 26]])"
            ]
          },
          "metadata": {},
          "execution_count": 18
        }
      ]
    },
    {
      "cell_type": "markdown",
      "metadata": {
        "id": "Vken7O4ETsAJ"
      },
      "source": [
        "Nótese que estamos estructurando el problema de aprendizaje como *many-to-many*:\n",
        "\n",
        "Entrada: secuencia de tokens [$x_0$, $x_1$, ..., $x_N$]\n",
        "\n",
        "Target: secuencia de tokens [$x_1$, $x_2$, ..., $x_{N+1}$]\n",
        "\n",
        "De manera que la red tiene que aprender que su salida deben ser los tokens desplazados en una posición y un nuevo token predicho (el N+1).\n",
        "\n",
        "La ventaja de estructurar el aprendizaje de esta manera es que para cada token de target se propaga una señal de gradiente por el grafo de cómputo recurrente, que es mejor que estructurar el problema como *many-to-one* en donde sólo una señal de gradiente se propaga."
      ]
    },
    {
      "cell_type": "markdown",
      "metadata": {
        "id": "l3iPTx-UJl6r"
      },
      "source": [
        "En este punto tenemos en la variable `tokenized_sentences` los versos tokenizados. Vamos a quedarnos con un conjunto de validación que utilizaremos para medir la calidad de la generación de secuencias con la métrica de Perplejidad."
      ]
    },
    {
      "cell_type": "code",
      "execution_count": 19,
      "metadata": {
        "id": "KFAyA4zCWE-5",
        "colab": {
          "base_uri": "https://localhost:8080/"
        },
        "outputId": "f2e10580-57ab-4fde-e7a5-0591f57080f5"
      },
      "outputs": [
        {
          "output_type": "execute_result",
          "data": {
            "text/plain": [
              "(11409, 60)"
            ]
          },
          "metadata": {},
          "execution_count": 19
        }
      ],
      "source": [
        "X.shape"
      ]
    },
    {
      "cell_type": "code",
      "execution_count": 20,
      "metadata": {
        "id": "qcKRl70HFTzG",
        "colab": {
          "base_uri": "https://localhost:8080/"
        },
        "outputId": "b94ec06a-9260-43f6-eba9-2065570a4fea"
      },
      "outputs": [
        {
          "output_type": "execute_result",
          "data": {
            "text/plain": [
              "array([22, 53, 10, 19, 22, 37, 10, 25, 28, 13])"
            ]
          },
          "metadata": {},
          "execution_count": 20
        }
      ],
      "source": [
        "X[0,:10]"
      ]
    },
    {
      "cell_type": "code",
      "execution_count": 21,
      "metadata": {
        "id": "TVpLCKSZFXZO",
        "colab": {
          "base_uri": "https://localhost:8080/"
        },
        "outputId": "555ef0b4-1137-4f41-815f-371ca51cbe5f"
      },
      "outputs": [
        {
          "output_type": "execute_result",
          "data": {
            "text/plain": [
              "array([53, 10, 19, 22, 37, 10, 25, 28, 13, 28])"
            ]
          },
          "metadata": {},
          "execution_count": 21
        }
      ],
      "source": [
        "y[0,:10]"
      ]
    },
    {
      "cell_type": "code",
      "execution_count": 22,
      "metadata": {
        "id": "wOFCR-KqbW1N"
      },
      "outputs": [],
      "source": [
        "vocab_size = len(chars_vocab)"
      ]
    },
    {
      "cell_type": "code",
      "source": [
        "vocab_size"
      ],
      "metadata": {
        "colab": {
          "base_uri": "https://localhost:8080/"
        },
        "id": "TA_MEsxej59D",
        "outputId": "731339ab-521c-4d5e-9e1c-0b556c215edc"
      },
      "execution_count": 23,
      "outputs": [
        {
          "output_type": "execute_result",
          "data": {
            "text/plain": [
              "56"
            ]
          },
          "metadata": {},
          "execution_count": 23
        }
      ]
    },
    {
      "cell_type": "markdown",
      "metadata": {
        "id": "tnnjdAQ5UAEJ"
      },
      "source": [
        "# Definiendo el modelo"
      ]
    },
    {
      "cell_type": "code",
      "execution_count": 24,
      "metadata": {
        "id": "rkMCZvmhrQz4"
      },
      "outputs": [],
      "source": [
        "from keras.layers import Input, TimeDistributed, CategoryEncoding, SimpleRNN, Dense\n",
        "from keras.models import Model, Sequential\n",
        "from keras.layers import LSTM\n",
        "from keras.layers import GRU"
      ]
    },
    {
      "cell_type": "markdown",
      "metadata": {
        "id": "wgz7VKwTUbj6"
      },
      "source": [
        "El modelo que se propone como ejemplo consume los índices de los tokens y los transforma en vectores OHE (en este caso no entrenamos una capa de embedding para caracteres). Esa transformación se logra combinando las capas `CategoryEncoding` que transforma a índices a vectores OHE y `TimeDistributed` que aplica la capa a lo largo de la dimensión \"temporal\" de la secuencia."
      ]
    },
    {
      "cell_type": "code",
      "execution_count": 25,
      "metadata": {
        "id": "Zd2OkfQYs2Q7",
        "colab": {
          "base_uri": "https://localhost:8080/",
          "height": 296
        },
        "outputId": "ef518a7f-9943-4f8f-9fe0-0d8fa9401d99"
      },
      "outputs": [
        {
          "output_type": "stream",
          "name": "stderr",
          "text": [
            "/usr/local/lib/python3.11/dist-packages/keras/src/layers/core/wrapper.py:27: UserWarning: Do not pass an `input_shape`/`input_dim` argument to a layer. When using Sequential models, prefer using an `Input(shape)` object as the first layer in the model instead.\n",
            "  super().__init__(**kwargs)\n"
          ]
        },
        {
          "output_type": "display_data",
          "data": {
            "text/plain": [
              "\u001b[1mModel: \"sequential\"\u001b[0m\n"
            ],
            "text/html": [
              "<pre style=\"white-space:pre;overflow-x:auto;line-height:normal;font-family:Menlo,'DejaVu Sans Mono',consolas,'Courier New',monospace\"><span style=\"font-weight: bold\">Model: \"sequential\"</span>\n",
              "</pre>\n"
            ]
          },
          "metadata": {}
        },
        {
          "output_type": "display_data",
          "data": {
            "text/plain": [
              "┏━━━━━━━━━━━━━━━━━━━━━━━━━━━━━━━━━┳━━━━━━━━━━━━━━━━━━━━━━━━┳━━━━━━━━━━━━━━━┓\n",
              "┃\u001b[1m \u001b[0m\u001b[1mLayer (type)                   \u001b[0m\u001b[1m \u001b[0m┃\u001b[1m \u001b[0m\u001b[1mOutput Shape          \u001b[0m\u001b[1m \u001b[0m┃\u001b[1m \u001b[0m\u001b[1m      Param #\u001b[0m\u001b[1m \u001b[0m┃\n",
              "┡━━━━━━━━━━━━━━━━━━━━━━━━━━━━━━━━━╇━━━━━━━━━━━━━━━━━━━━━━━━╇━━━━━━━━━━━━━━━┩\n",
              "│ time_distributed                │ (\u001b[38;5;45mNone\u001b[0m, \u001b[38;5;45mNone\u001b[0m, \u001b[38;5;34m56\u001b[0m)       │             \u001b[38;5;34m0\u001b[0m │\n",
              "│ (\u001b[38;5;33mTimeDistributed\u001b[0m)               │                        │               │\n",
              "├─────────────────────────────────┼────────────────────────┼───────────────┤\n",
              "│ simple_rnn (\u001b[38;5;33mSimpleRNN\u001b[0m)          │ (\u001b[38;5;45mNone\u001b[0m, \u001b[38;5;45mNone\u001b[0m, \u001b[38;5;34m200\u001b[0m)      │        \u001b[38;5;34m51,400\u001b[0m │\n",
              "├─────────────────────────────────┼────────────────────────┼───────────────┤\n",
              "│ dense (\u001b[38;5;33mDense\u001b[0m)                   │ (\u001b[38;5;45mNone\u001b[0m, \u001b[38;5;45mNone\u001b[0m, \u001b[38;5;34m56\u001b[0m)       │        \u001b[38;5;34m11,256\u001b[0m │\n",
              "└─────────────────────────────────┴────────────────────────┴───────────────┘\n"
            ],
            "text/html": [
              "<pre style=\"white-space:pre;overflow-x:auto;line-height:normal;font-family:Menlo,'DejaVu Sans Mono',consolas,'Courier New',monospace\">┏━━━━━━━━━━━━━━━━━━━━━━━━━━━━━━━━━┳━━━━━━━━━━━━━━━━━━━━━━━━┳━━━━━━━━━━━━━━━┓\n",
              "┃<span style=\"font-weight: bold\"> Layer (type)                    </span>┃<span style=\"font-weight: bold\"> Output Shape           </span>┃<span style=\"font-weight: bold\">       Param # </span>┃\n",
              "┡━━━━━━━━━━━━━━━━━━━━━━━━━━━━━━━━━╇━━━━━━━━━━━━━━━━━━━━━━━━╇━━━━━━━━━━━━━━━┩\n",
              "│ time_distributed                │ (<span style=\"color: #00d7ff; text-decoration-color: #00d7ff\">None</span>, <span style=\"color: #00d7ff; text-decoration-color: #00d7ff\">None</span>, <span style=\"color: #00af00; text-decoration-color: #00af00\">56</span>)       │             <span style=\"color: #00af00; text-decoration-color: #00af00\">0</span> │\n",
              "│ (<span style=\"color: #0087ff; text-decoration-color: #0087ff\">TimeDistributed</span>)               │                        │               │\n",
              "├─────────────────────────────────┼────────────────────────┼───────────────┤\n",
              "│ simple_rnn (<span style=\"color: #0087ff; text-decoration-color: #0087ff\">SimpleRNN</span>)          │ (<span style=\"color: #00d7ff; text-decoration-color: #00d7ff\">None</span>, <span style=\"color: #00d7ff; text-decoration-color: #00d7ff\">None</span>, <span style=\"color: #00af00; text-decoration-color: #00af00\">200</span>)      │        <span style=\"color: #00af00; text-decoration-color: #00af00\">51,400</span> │\n",
              "├─────────────────────────────────┼────────────────────────┼───────────────┤\n",
              "│ dense (<span style=\"color: #0087ff; text-decoration-color: #0087ff\">Dense</span>)                   │ (<span style=\"color: #00d7ff; text-decoration-color: #00d7ff\">None</span>, <span style=\"color: #00d7ff; text-decoration-color: #00d7ff\">None</span>, <span style=\"color: #00af00; text-decoration-color: #00af00\">56</span>)       │        <span style=\"color: #00af00; text-decoration-color: #00af00\">11,256</span> │\n",
              "└─────────────────────────────────┴────────────────────────┴───────────────┘\n",
              "</pre>\n"
            ]
          },
          "metadata": {}
        },
        {
          "output_type": "display_data",
          "data": {
            "text/plain": [
              "\u001b[1m Total params: \u001b[0m\u001b[38;5;34m62,656\u001b[0m (244.75 KB)\n"
            ],
            "text/html": [
              "<pre style=\"white-space:pre;overflow-x:auto;line-height:normal;font-family:Menlo,'DejaVu Sans Mono',consolas,'Courier New',monospace\"><span style=\"font-weight: bold\"> Total params: </span><span style=\"color: #00af00; text-decoration-color: #00af00\">62,656</span> (244.75 KB)\n",
              "</pre>\n"
            ]
          },
          "metadata": {}
        },
        {
          "output_type": "display_data",
          "data": {
            "text/plain": [
              "\u001b[1m Trainable params: \u001b[0m\u001b[38;5;34m62,656\u001b[0m (244.75 KB)\n"
            ],
            "text/html": [
              "<pre style=\"white-space:pre;overflow-x:auto;line-height:normal;font-family:Menlo,'DejaVu Sans Mono',consolas,'Courier New',monospace\"><span style=\"font-weight: bold\"> Trainable params: </span><span style=\"color: #00af00; text-decoration-color: #00af00\">62,656</span> (244.75 KB)\n",
              "</pre>\n"
            ]
          },
          "metadata": {}
        },
        {
          "output_type": "display_data",
          "data": {
            "text/plain": [
              "\u001b[1m Non-trainable params: \u001b[0m\u001b[38;5;34m0\u001b[0m (0.00 B)\n"
            ],
            "text/html": [
              "<pre style=\"white-space:pre;overflow-x:auto;line-height:normal;font-family:Menlo,'DejaVu Sans Mono',consolas,'Courier New',monospace\"><span style=\"font-weight: bold\"> Non-trainable params: </span><span style=\"color: #00af00; text-decoration-color: #00af00\">0</span> (0.00 B)\n",
              "</pre>\n"
            ]
          },
          "metadata": {}
        }
      ],
      "source": [
        "model = Sequential()\n",
        "\n",
        "\n",
        "model.add(TimeDistributed(CategoryEncoding(num_tokens=vocab_size, output_mode = \"one_hot\"),input_shape=(None,1)))\n",
        "\n",
        "#SimpleRNN\n",
        "model.add(SimpleRNN(200, return_sequences=True, dropout=0.1, recurrent_dropout=0.1 ))\n",
        "\n",
        "#LSTM\n",
        "#model.add(LSTM(100, return_sequences=True, dropout=0.1, recurrent_dropout=0.1))\n",
        "\n",
        "#GRU\n",
        "#model.add(GRU(200, return_sequences=True, dropout=0.1, recurrent_dropout=0.1))\n",
        "\n",
        "model.add(Dense(vocab_size, activation='softmax'))\n",
        "#model.compile(loss='sparse_categorical_crossentropy', optimizer='rmsprop')\n",
        "model.compile(loss='sparse_categorical_crossentropy', optimizer='adam')\n",
        "\n",
        "model.summary()"
      ]
    },
    {
      "cell_type": "code",
      "source": [
        "model_LSTM = Sequential()\n",
        "\n",
        "\n",
        "model_LSTM.add(TimeDistributed(CategoryEncoding(num_tokens=vocab_size, output_mode = \"one_hot\"),input_shape=(None,1)))\n",
        "\n",
        "#SimpleRNN\n",
        "#model.add(SimpleRNN(200, return_sequences=True, dropout=0.1, recurrent_dropout=0.1 ))\n",
        "\n",
        "#LSTM\n",
        "model_LSTM.add(LSTM(100, return_sequences=True, dropout=0.1, recurrent_dropout=0.1))\n",
        "\n",
        "#GRU\n",
        "#model.add(GRU(200, return_sequences=True, dropout=0.1, recurrent_dropout=0.1))\n",
        "\n",
        "model_LSTM.add(Dense(vocab_size, activation='softmax'))\n",
        "#model.compile(loss='sparse_categorical_crossentropy', optimizer='rmsprop')\n",
        "model_LSTM.compile(loss='sparse_categorical_crossentropy', optimizer='adam')\n",
        "\n",
        "model_LSTM.summary()"
      ],
      "metadata": {
        "colab": {
          "base_uri": "https://localhost:8080/",
          "height": 241
        },
        "id": "7A2yNBC2qnHJ",
        "outputId": "6cd5b4ea-fc59-47d9-f7d6-1f3ed1614fd9"
      },
      "execution_count": 26,
      "outputs": [
        {
          "output_type": "display_data",
          "data": {
            "text/plain": [
              "\u001b[1mModel: \"sequential_1\"\u001b[0m\n"
            ],
            "text/html": [
              "<pre style=\"white-space:pre;overflow-x:auto;line-height:normal;font-family:Menlo,'DejaVu Sans Mono',consolas,'Courier New',monospace\"><span style=\"font-weight: bold\">Model: \"sequential_1\"</span>\n",
              "</pre>\n"
            ]
          },
          "metadata": {}
        },
        {
          "output_type": "display_data",
          "data": {
            "text/plain": [
              "┏━━━━━━━━━━━━━━━━━━━━━━━━━━━━━━━━━┳━━━━━━━━━━━━━━━━━━━━━━━━┳━━━━━━━━━━━━━━━┓\n",
              "┃\u001b[1m \u001b[0m\u001b[1mLayer (type)                   \u001b[0m\u001b[1m \u001b[0m┃\u001b[1m \u001b[0m\u001b[1mOutput Shape          \u001b[0m\u001b[1m \u001b[0m┃\u001b[1m \u001b[0m\u001b[1m      Param #\u001b[0m\u001b[1m \u001b[0m┃\n",
              "┡━━━━━━━━━━━━━━━━━━━━━━━━━━━━━━━━━╇━━━━━━━━━━━━━━━━━━━━━━━━╇━━━━━━━━━━━━━━━┩\n",
              "│ time_distributed_1              │ (\u001b[38;5;45mNone\u001b[0m, \u001b[38;5;45mNone\u001b[0m, \u001b[38;5;34m56\u001b[0m)       │             \u001b[38;5;34m0\u001b[0m │\n",
              "│ (\u001b[38;5;33mTimeDistributed\u001b[0m)               │                        │               │\n",
              "├─────────────────────────────────┼────────────────────────┼───────────────┤\n",
              "│ lstm (\u001b[38;5;33mLSTM\u001b[0m)                     │ (\u001b[38;5;45mNone\u001b[0m, \u001b[38;5;45mNone\u001b[0m, \u001b[38;5;34m100\u001b[0m)      │        \u001b[38;5;34m62,800\u001b[0m │\n",
              "├─────────────────────────────────┼────────────────────────┼───────────────┤\n",
              "│ dense_1 (\u001b[38;5;33mDense\u001b[0m)                 │ (\u001b[38;5;45mNone\u001b[0m, \u001b[38;5;45mNone\u001b[0m, \u001b[38;5;34m56\u001b[0m)       │         \u001b[38;5;34m5,656\u001b[0m │\n",
              "└─────────────────────────────────┴────────────────────────┴───────────────┘\n"
            ],
            "text/html": [
              "<pre style=\"white-space:pre;overflow-x:auto;line-height:normal;font-family:Menlo,'DejaVu Sans Mono',consolas,'Courier New',monospace\">┏━━━━━━━━━━━━━━━━━━━━━━━━━━━━━━━━━┳━━━━━━━━━━━━━━━━━━━━━━━━┳━━━━━━━━━━━━━━━┓\n",
              "┃<span style=\"font-weight: bold\"> Layer (type)                    </span>┃<span style=\"font-weight: bold\"> Output Shape           </span>┃<span style=\"font-weight: bold\">       Param # </span>┃\n",
              "┡━━━━━━━━━━━━━━━━━━━━━━━━━━━━━━━━━╇━━━━━━━━━━━━━━━━━━━━━━━━╇━━━━━━━━━━━━━━━┩\n",
              "│ time_distributed_1              │ (<span style=\"color: #00d7ff; text-decoration-color: #00d7ff\">None</span>, <span style=\"color: #00d7ff; text-decoration-color: #00d7ff\">None</span>, <span style=\"color: #00af00; text-decoration-color: #00af00\">56</span>)       │             <span style=\"color: #00af00; text-decoration-color: #00af00\">0</span> │\n",
              "│ (<span style=\"color: #0087ff; text-decoration-color: #0087ff\">TimeDistributed</span>)               │                        │               │\n",
              "├─────────────────────────────────┼────────────────────────┼───────────────┤\n",
              "│ lstm (<span style=\"color: #0087ff; text-decoration-color: #0087ff\">LSTM</span>)                     │ (<span style=\"color: #00d7ff; text-decoration-color: #00d7ff\">None</span>, <span style=\"color: #00d7ff; text-decoration-color: #00d7ff\">None</span>, <span style=\"color: #00af00; text-decoration-color: #00af00\">100</span>)      │        <span style=\"color: #00af00; text-decoration-color: #00af00\">62,800</span> │\n",
              "├─────────────────────────────────┼────────────────────────┼───────────────┤\n",
              "│ dense_1 (<span style=\"color: #0087ff; text-decoration-color: #0087ff\">Dense</span>)                 │ (<span style=\"color: #00d7ff; text-decoration-color: #00d7ff\">None</span>, <span style=\"color: #00d7ff; text-decoration-color: #00d7ff\">None</span>, <span style=\"color: #00af00; text-decoration-color: #00af00\">56</span>)       │         <span style=\"color: #00af00; text-decoration-color: #00af00\">5,656</span> │\n",
              "└─────────────────────────────────┴────────────────────────┴───────────────┘\n",
              "</pre>\n"
            ]
          },
          "metadata": {}
        },
        {
          "output_type": "display_data",
          "data": {
            "text/plain": [
              "\u001b[1m Total params: \u001b[0m\u001b[38;5;34m68,456\u001b[0m (267.41 KB)\n"
            ],
            "text/html": [
              "<pre style=\"white-space:pre;overflow-x:auto;line-height:normal;font-family:Menlo,'DejaVu Sans Mono',consolas,'Courier New',monospace\"><span style=\"font-weight: bold\"> Total params: </span><span style=\"color: #00af00; text-decoration-color: #00af00\">68,456</span> (267.41 KB)\n",
              "</pre>\n"
            ]
          },
          "metadata": {}
        },
        {
          "output_type": "display_data",
          "data": {
            "text/plain": [
              "\u001b[1m Trainable params: \u001b[0m\u001b[38;5;34m68,456\u001b[0m (267.41 KB)\n"
            ],
            "text/html": [
              "<pre style=\"white-space:pre;overflow-x:auto;line-height:normal;font-family:Menlo,'DejaVu Sans Mono',consolas,'Courier New',monospace\"><span style=\"font-weight: bold\"> Trainable params: </span><span style=\"color: #00af00; text-decoration-color: #00af00\">68,456</span> (267.41 KB)\n",
              "</pre>\n"
            ]
          },
          "metadata": {}
        },
        {
          "output_type": "display_data",
          "data": {
            "text/plain": [
              "\u001b[1m Non-trainable params: \u001b[0m\u001b[38;5;34m0\u001b[0m (0.00 B)\n"
            ],
            "text/html": [
              "<pre style=\"white-space:pre;overflow-x:auto;line-height:normal;font-family:Menlo,'DejaVu Sans Mono',consolas,'Courier New',monospace\"><span style=\"font-weight: bold\"> Non-trainable params: </span><span style=\"color: #00af00; text-decoration-color: #00af00\">0</span> (0.00 B)\n",
              "</pre>\n"
            ]
          },
          "metadata": {}
        }
      ]
    },
    {
      "cell_type": "code",
      "source": [
        "model_GRU = Sequential()\n",
        "\n",
        "\n",
        "model_GRU.add(TimeDistributed(CategoryEncoding(num_tokens=vocab_size, output_mode = \"one_hot\"),input_shape=(None,1)))\n",
        "\n",
        "#SimpleRNN\n",
        "#model.add(SimpleRNN(200, return_sequences=True, dropout=0.1, recurrent_dropout=0.1 ))\n",
        "\n",
        "#LSTM\n",
        "#model_LSTM.add(LSTM(100, return_sequences=True, dropout=0.1, recurrent_dropout=0.1))\n",
        "\n",
        "#GRU\n",
        "model_GRU.add(GRU(200, return_sequences=True, dropout=0.1, recurrent_dropout=0.1))\n",
        "\n",
        "model_GRU.add(Dense(vocab_size, activation='softmax'))\n",
        "#model.compile(loss='sparse_categorical_crossentropy', optimizer='rmsprop')\n",
        "model_GRU.compile(loss='sparse_categorical_crossentropy', optimizer='adam')\n",
        "\n",
        "model_GRU.summary()"
      ],
      "metadata": {
        "colab": {
          "base_uri": "https://localhost:8080/",
          "height": 241
        },
        "id": "FuPg-4ZNvgr8",
        "outputId": "a4226650-b299-4713-dd52-35b50e79b69b"
      },
      "execution_count": 27,
      "outputs": [
        {
          "output_type": "display_data",
          "data": {
            "text/plain": [
              "\u001b[1mModel: \"sequential_2\"\u001b[0m\n"
            ],
            "text/html": [
              "<pre style=\"white-space:pre;overflow-x:auto;line-height:normal;font-family:Menlo,'DejaVu Sans Mono',consolas,'Courier New',monospace\"><span style=\"font-weight: bold\">Model: \"sequential_2\"</span>\n",
              "</pre>\n"
            ]
          },
          "metadata": {}
        },
        {
          "output_type": "display_data",
          "data": {
            "text/plain": [
              "┏━━━━━━━━━━━━━━━━━━━━━━━━━━━━━━━━━┳━━━━━━━━━━━━━━━━━━━━━━━━┳━━━━━━━━━━━━━━━┓\n",
              "┃\u001b[1m \u001b[0m\u001b[1mLayer (type)                   \u001b[0m\u001b[1m \u001b[0m┃\u001b[1m \u001b[0m\u001b[1mOutput Shape          \u001b[0m\u001b[1m \u001b[0m┃\u001b[1m \u001b[0m\u001b[1m      Param #\u001b[0m\u001b[1m \u001b[0m┃\n",
              "┡━━━━━━━━━━━━━━━━━━━━━━━━━━━━━━━━━╇━━━━━━━━━━━━━━━━━━━━━━━━╇━━━━━━━━━━━━━━━┩\n",
              "│ time_distributed_2              │ (\u001b[38;5;45mNone\u001b[0m, \u001b[38;5;45mNone\u001b[0m, \u001b[38;5;34m56\u001b[0m)       │             \u001b[38;5;34m0\u001b[0m │\n",
              "│ (\u001b[38;5;33mTimeDistributed\u001b[0m)               │                        │               │\n",
              "├─────────────────────────────────┼────────────────────────┼───────────────┤\n",
              "│ gru (\u001b[38;5;33mGRU\u001b[0m)                       │ (\u001b[38;5;45mNone\u001b[0m, \u001b[38;5;45mNone\u001b[0m, \u001b[38;5;34m200\u001b[0m)      │       \u001b[38;5;34m154,800\u001b[0m │\n",
              "├─────────────────────────────────┼────────────────────────┼───────────────┤\n",
              "│ dense_2 (\u001b[38;5;33mDense\u001b[0m)                 │ (\u001b[38;5;45mNone\u001b[0m, \u001b[38;5;45mNone\u001b[0m, \u001b[38;5;34m56\u001b[0m)       │        \u001b[38;5;34m11,256\u001b[0m │\n",
              "└─────────────────────────────────┴────────────────────────┴───────────────┘\n"
            ],
            "text/html": [
              "<pre style=\"white-space:pre;overflow-x:auto;line-height:normal;font-family:Menlo,'DejaVu Sans Mono',consolas,'Courier New',monospace\">┏━━━━━━━━━━━━━━━━━━━━━━━━━━━━━━━━━┳━━━━━━━━━━━━━━━━━━━━━━━━┳━━━━━━━━━━━━━━━┓\n",
              "┃<span style=\"font-weight: bold\"> Layer (type)                    </span>┃<span style=\"font-weight: bold\"> Output Shape           </span>┃<span style=\"font-weight: bold\">       Param # </span>┃\n",
              "┡━━━━━━━━━━━━━━━━━━━━━━━━━━━━━━━━━╇━━━━━━━━━━━━━━━━━━━━━━━━╇━━━━━━━━━━━━━━━┩\n",
              "│ time_distributed_2              │ (<span style=\"color: #00d7ff; text-decoration-color: #00d7ff\">None</span>, <span style=\"color: #00d7ff; text-decoration-color: #00d7ff\">None</span>, <span style=\"color: #00af00; text-decoration-color: #00af00\">56</span>)       │             <span style=\"color: #00af00; text-decoration-color: #00af00\">0</span> │\n",
              "│ (<span style=\"color: #0087ff; text-decoration-color: #0087ff\">TimeDistributed</span>)               │                        │               │\n",
              "├─────────────────────────────────┼────────────────────────┼───────────────┤\n",
              "│ gru (<span style=\"color: #0087ff; text-decoration-color: #0087ff\">GRU</span>)                       │ (<span style=\"color: #00d7ff; text-decoration-color: #00d7ff\">None</span>, <span style=\"color: #00d7ff; text-decoration-color: #00d7ff\">None</span>, <span style=\"color: #00af00; text-decoration-color: #00af00\">200</span>)      │       <span style=\"color: #00af00; text-decoration-color: #00af00\">154,800</span> │\n",
              "├─────────────────────────────────┼────────────────────────┼───────────────┤\n",
              "│ dense_2 (<span style=\"color: #0087ff; text-decoration-color: #0087ff\">Dense</span>)                 │ (<span style=\"color: #00d7ff; text-decoration-color: #00d7ff\">None</span>, <span style=\"color: #00d7ff; text-decoration-color: #00d7ff\">None</span>, <span style=\"color: #00af00; text-decoration-color: #00af00\">56</span>)       │        <span style=\"color: #00af00; text-decoration-color: #00af00\">11,256</span> │\n",
              "└─────────────────────────────────┴────────────────────────┴───────────────┘\n",
              "</pre>\n"
            ]
          },
          "metadata": {}
        },
        {
          "output_type": "display_data",
          "data": {
            "text/plain": [
              "\u001b[1m Total params: \u001b[0m\u001b[38;5;34m166,056\u001b[0m (648.66 KB)\n"
            ],
            "text/html": [
              "<pre style=\"white-space:pre;overflow-x:auto;line-height:normal;font-family:Menlo,'DejaVu Sans Mono',consolas,'Courier New',monospace\"><span style=\"font-weight: bold\"> Total params: </span><span style=\"color: #00af00; text-decoration-color: #00af00\">166,056</span> (648.66 KB)\n",
              "</pre>\n"
            ]
          },
          "metadata": {}
        },
        {
          "output_type": "display_data",
          "data": {
            "text/plain": [
              "\u001b[1m Trainable params: \u001b[0m\u001b[38;5;34m166,056\u001b[0m (648.66 KB)\n"
            ],
            "text/html": [
              "<pre style=\"white-space:pre;overflow-x:auto;line-height:normal;font-family:Menlo,'DejaVu Sans Mono',consolas,'Courier New',monospace\"><span style=\"font-weight: bold\"> Trainable params: </span><span style=\"color: #00af00; text-decoration-color: #00af00\">166,056</span> (648.66 KB)\n",
              "</pre>\n"
            ]
          },
          "metadata": {}
        },
        {
          "output_type": "display_data",
          "data": {
            "text/plain": [
              "\u001b[1m Non-trainable params: \u001b[0m\u001b[38;5;34m0\u001b[0m (0.00 B)\n"
            ],
            "text/html": [
              "<pre style=\"white-space:pre;overflow-x:auto;line-height:normal;font-family:Menlo,'DejaVu Sans Mono',consolas,'Courier New',monospace\"><span style=\"font-weight: bold\"> Non-trainable params: </span><span style=\"color: #00af00; text-decoration-color: #00af00\">0</span> (0.00 B)\n",
              "</pre>\n"
            ]
          },
          "metadata": {}
        }
      ]
    },
    {
      "cell_type": "markdown",
      "metadata": {
        "id": "GmJWNyxQwfCE"
      },
      "source": [
        "\n",
        "### Definir el modelo"
      ]
    },
    {
      "cell_type": "markdown",
      "metadata": {
        "id": "YWK3z85sQfUe"
      },
      "source": [
        "Dado que por el momento no hay implementaciones adecuadas de la perplejidad que puedan operar en tiempo de entrenamiento, armaremos un Callback *ad-hoc* que la calcule en cada epoch.\n",
        "\n",
        "**Nota**: un Callback es una rutina gatillada por algún evento, son muy útiles para relevar datos en diferentes momentos del desarrollo del modelo. En este caso queremos hacer un cálculo cada vez que termina una epoch de entrenamiento."
      ]
    },
    {
      "cell_type": "code",
      "execution_count": 28,
      "metadata": {
        "id": "zUHX3r5JD-MG"
      },
      "outputs": [],
      "source": [
        "class PplCallback(keras.callbacks.Callback):\n",
        "\n",
        "    '''\n",
        "    Este callback es una solución ad-hoc para calcular al final de cada epoch de\n",
        "    entrenamiento la métrica de Perplejidad sobre un conjunto de datos de validación.\n",
        "    La perplejidad es una métrica cuantitativa para evaluar la calidad de la generación de secuencias.\n",
        "    Además implementa la finalización del entrenamiento (Early Stopping)\n",
        "    si la perplejidad no mejora después de `patience` epochs.\n",
        "    '''\n",
        "\n",
        "    def __init__(self, val_data, history_ppl,patience=5):\n",
        "      # El callback lo inicializamos con secuencias de validación sobre las cuales\n",
        "      # mediremos la perplejidad\n",
        "      self.val_data = val_data\n",
        "\n",
        "      self.target = []\n",
        "      self.padded = []\n",
        "\n",
        "      count = 0\n",
        "      self.info = []\n",
        "      self.min_score = np.inf\n",
        "      self.patience_counter = 0\n",
        "      self.patience = patience\n",
        "\n",
        "      # nos movemos en todas las secuencias de los datos de validación\n",
        "      for seq in self.val_data:\n",
        "\n",
        "        len_seq = len(seq)\n",
        "        # armamos todas las subsecuencias\n",
        "        subseq = [seq[:i] for i in range(1,len_seq)]\n",
        "        self.target.extend([seq[i] for i in range(1,len_seq)])\n",
        "\n",
        "        if len(subseq)!=0:\n",
        "\n",
        "          self.padded.append(pad_sequences(subseq, maxlen=max_context_size, padding='pre'))\n",
        "\n",
        "          self.info.append((count,count+len_seq))\n",
        "          count += len_seq\n",
        "\n",
        "      self.padded = np.vstack(self.padded)\n",
        "\n",
        "\n",
        "    def on_epoch_end(self, epoch, logs=None):\n",
        "\n",
        "        # en `scores` iremos guardando la perplejidad de cada secuencia\n",
        "        scores = []\n",
        "\n",
        "        predictions = self.model.predict(self.padded,verbose=0)\n",
        "\n",
        "        # para cada secuencia de validación\n",
        "        for start,end in self.info:\n",
        "\n",
        "          # en `probs` iremos guardando las probabilidades de los términos target\n",
        "          probs = [predictions[idx_seq,-1,idx_vocab] for idx_seq, idx_vocab in zip(range(start,end),self.target[start:end])]\n",
        "\n",
        "          # calculamos la perplejidad por medio de logaritmos\n",
        "          scores.append(np.exp(-np.sum(np.log(probs))/(end-start)))\n",
        "\n",
        "        # promediamos todos los scores e imprimimos el valor promedio\n",
        "        current_score = np.mean(scores)\n",
        "        history_ppl.append(current_score)\n",
        "        print(f'\\n mean perplexity: {current_score} \\n')\n",
        "\n",
        "        # chequeamos si tenemos que detener el entrenamiento\n",
        "        if current_score < self.min_score:\n",
        "          self.min_score = current_score\n",
        "          self.model.save(\"my_model.keras\")\n",
        "          print(\"Saved new model!\")\n",
        "          self.patience_counter = 0\n",
        "        else:\n",
        "          self.patience_counter += 1\n",
        "          if self.patience_counter == self.patience:\n",
        "            print(\"Stopping training...\")\n",
        "            self.model.stop_training = True\n"
      ]
    },
    {
      "cell_type": "markdown",
      "metadata": {
        "id": "8HBZIwR0gruA"
      },
      "source": [
        "### Entrenamiento"
      ]
    },
    {
      "cell_type": "code",
      "execution_count": 29,
      "metadata": {
        "id": "oQq1PHDkxDvN",
        "colab": {
          "base_uri": "https://localhost:8080/"
        },
        "outputId": "5d56b8e6-59c4-469c-87a7-0e2625e6d726"
      },
      "outputs": [
        {
          "output_type": "stream",
          "name": "stdout",
          "text": [
            "Epoch 1/20\n",
            "\u001b[1m45/45\u001b[0m \u001b[32m━━━━━━━━━━━━━━━━━━━━\u001b[0m\u001b[37m\u001b[0m \u001b[1m0s\u001b[0m 69ms/step - loss: 3.4257\n",
            " mean perplexity: 24.90280532836914 \n",
            "\n",
            "Saved new model!\n",
            "\u001b[1m45/45\u001b[0m \u001b[32m━━━━━━━━━━━━━━━━━━━━\u001b[0m\u001b[37m\u001b[0m \u001b[1m14s\u001b[0m 179ms/step - loss: 3.4197\n",
            "Epoch 2/20\n",
            "\u001b[1m42/45\u001b[0m \u001b[32m━━━━━━━━━━━━━━━━━━\u001b[0m\u001b[37m━━\u001b[0m \u001b[1m0s\u001b[0m 12ms/step - loss: 2.8181\n",
            " mean perplexity: 20.69866180419922 \n",
            "\n",
            "Saved new model!\n",
            "\u001b[1m45/45\u001b[0m \u001b[32m━━━━━━━━━━━━━━━━━━━━\u001b[0m\u001b[37m\u001b[0m \u001b[1m1s\u001b[0m 14ms/step - loss: 2.8109\n",
            "Epoch 3/20\n",
            "\u001b[1m43/45\u001b[0m \u001b[32m━━━━━━━━━━━━━━━━━━━\u001b[0m\u001b[37m━\u001b[0m \u001b[1m0s\u001b[0m 9ms/step - loss: 2.5117\n",
            " mean perplexity: 19.32489585876465 \n",
            "\n",
            "Saved new model!\n",
            "\u001b[1m45/45\u001b[0m \u001b[32m━━━━━━━━━━━━━━━━━━━━\u001b[0m\u001b[37m\u001b[0m \u001b[1m1s\u001b[0m 12ms/step - loss: 2.5080\n",
            "Epoch 4/20\n",
            "\u001b[1m43/45\u001b[0m \u001b[32m━━━━━━━━━━━━━━━━━━━\u001b[0m\u001b[37m━\u001b[0m \u001b[1m0s\u001b[0m 9ms/step - loss: 2.3098\n",
            " mean perplexity: 18.2816104888916 \n",
            "\n",
            "Saved new model!\n",
            "\u001b[1m45/45\u001b[0m \u001b[32m━━━━━━━━━━━━━━━━━━━━\u001b[0m\u001b[37m\u001b[0m \u001b[1m1s\u001b[0m 12ms/step - loss: 2.3076\n",
            "Epoch 5/20\n",
            "\u001b[1m43/45\u001b[0m \u001b[32m━━━━━━━━━━━━━━━━━━━\u001b[0m\u001b[37m━\u001b[0m \u001b[1m0s\u001b[0m 9ms/step - loss: 2.1869\n",
            " mean perplexity: 18.47506332397461 \n",
            "\n",
            "\u001b[1m45/45\u001b[0m \u001b[32m━━━━━━━━━━━━━━━━━━━━\u001b[0m\u001b[37m\u001b[0m \u001b[1m1s\u001b[0m 11ms/step - loss: 2.1855\n",
            "Epoch 6/20\n",
            "\u001b[1m43/45\u001b[0m \u001b[32m━━━━━━━━━━━━━━━━━━━\u001b[0m\u001b[37m━\u001b[0m \u001b[1m0s\u001b[0m 9ms/step - loss: 2.1051\n",
            " mean perplexity: 20.005647659301758 \n",
            "\n",
            "\u001b[1m45/45\u001b[0m \u001b[32m━━━━━━━━━━━━━━━━━━━━\u001b[0m\u001b[37m\u001b[0m \u001b[1m1s\u001b[0m 11ms/step - loss: 2.1041\n",
            "Epoch 7/20\n",
            "\u001b[1m43/45\u001b[0m \u001b[32m━━━━━━━━━━━━━━━━━━━\u001b[0m\u001b[37m━\u001b[0m \u001b[1m0s\u001b[0m 9ms/step - loss: 2.0449\n",
            " mean perplexity: 20.92023277282715 \n",
            "\n",
            "\u001b[1m45/45\u001b[0m \u001b[32m━━━━━━━━━━━━━━━━━━━━\u001b[0m\u001b[37m\u001b[0m \u001b[1m1s\u001b[0m 11ms/step - loss: 2.0441\n",
            "Epoch 8/20\n",
            "\u001b[1m43/45\u001b[0m \u001b[32m━━━━━━━━━━━━━━━━━━━\u001b[0m\u001b[37m━\u001b[0m \u001b[1m0s\u001b[0m 9ms/step - loss: 1.9946\n",
            " mean perplexity: 22.04287338256836 \n",
            "\n",
            "\u001b[1m45/45\u001b[0m \u001b[32m━━━━━━━━━━━━━━━━━━━━\u001b[0m\u001b[37m\u001b[0m \u001b[1m1s\u001b[0m 11ms/step - loss: 1.9937\n",
            "Epoch 9/20\n",
            "\u001b[1m43/45\u001b[0m \u001b[32m━━━━━━━━━━━━━━━━━━━\u001b[0m\u001b[37m━\u001b[0m \u001b[1m0s\u001b[0m 9ms/step - loss: 1.9507\n",
            " mean perplexity: 22.7831974029541 \n",
            "\n",
            "Stopping training...\n",
            "\u001b[1m45/45\u001b[0m \u001b[32m━━━━━━━━━━━━━━━━━━━━\u001b[0m\u001b[37m\u001b[0m \u001b[1m1s\u001b[0m 11ms/step - loss: 1.9500\n"
          ]
        }
      ],
      "source": [
        "# fiteamos, nótese el agregado del callback con su inicialización. El batch_size lo podemos seleccionar a mano\n",
        "# en general, lo mejor es escoger el batch más grande posible que minimice el tiempo de cada época.\n",
        "# En la variable `history_ppl` se guardarán los valores de perplejidad para cada época.\n",
        "history_ppl = []\n",
        "hist = model.fit(X, y, epochs=20, callbacks=[PplCallback(tokenized_sentences_val,history_ppl)], batch_size=256)"
      ]
    },
    {
      "cell_type": "code",
      "source": [
        "history_ppl"
      ],
      "metadata": {
        "colab": {
          "base_uri": "https://localhost:8080/"
        },
        "id": "mrxxdu30qgHQ",
        "outputId": "0ce721c0-2dd3-4c93-ddb7-ae894cc41ba6"
      },
      "execution_count": 30,
      "outputs": [
        {
          "output_type": "execute_result",
          "data": {
            "text/plain": [
              "[np.float32(24.902805),\n",
              " np.float32(20.698662),\n",
              " np.float32(19.324896),\n",
              " np.float32(18.28161),\n",
              " np.float32(18.475063),\n",
              " np.float32(20.005648),\n",
              " np.float32(20.920233),\n",
              " np.float32(22.042873),\n",
              " np.float32(22.783197)]"
            ]
          },
          "metadata": {},
          "execution_count": 30
        }
      ]
    },
    {
      "cell_type": "code",
      "execution_count": 31,
      "metadata": {
        "id": "K30JHB3Dv-mx",
        "colab": {
          "base_uri": "https://localhost:8080/",
          "height": 430
        },
        "outputId": "3688911b-d7cb-4cbe-ecac-5734feef64ec"
      },
      "outputs": [
        {
          "output_type": "display_data",
          "data": {
            "text/plain": [
              "<Figure size 640x480 with 1 Axes>"
            ],
            "image/png": "[encoded data removed]"
          },
          "metadata": {}
        }
      ],
      "source": [
        "import matplotlib.pyplot as plt\n",
        "import seaborn as sns\n",
        "\n",
        "# Entrenamiento\n",
        "epoch_count = range(1, len(history_ppl) + 1)\n",
        "sns.lineplot(x=epoch_count,  y= history_ppl)\n",
        "plt.show()"
      ]
    },
    {
      "cell_type": "code",
      "execution_count": 32,
      "metadata": {
        "id": "Rhy5hZN38qfO"
      },
      "outputs": [],
      "source": [
        "# Cargamos el mejor modelo guardado del entrenamiento para hacer inferencia\n",
        "model = keras.models.load_model('my_model.keras')"
      ]
    },
    {
      "cell_type": "code",
      "source": [
        "# fiteamos, nótese el agregado del callback con su inicialización. El batch_size lo podemos seleccionar a mano\n",
        "# en general, lo mejor es escoger el batch más grande posible que minimice el tiempo de cada época.\n",
        "# En la variable `history_ppl` se guardarán los valores de perplejidad para cada época.\n",
        "history_ppl = []\n",
        "hist = model_LSTM.fit(X, y, epochs=20, callbacks=[PplCallback(tokenized_sentences_val,history_ppl)], batch_size=256)"
      ],
      "metadata": {
        "colab": {
          "base_uri": "https://localhost:8080/"
        },
        "id": "z0Vc0IsyrCzt",
        "outputId": "df954e97-0223-46d8-9acc-1046e525e87f"
      },
      "execution_count": 37,
      "outputs": [
        {
          "output_type": "stream",
          "name": "stdout",
          "text": [
            "Epoch 1/20\n",
            "\u001b[1m45/45\u001b[0m \u001b[32m━━━━━━━━━━━━━━━━━━━━\u001b[0m\u001b[37m\u001b[0m \u001b[1m0s\u001b[0m 108ms/step - loss: 2.1316\n",
            " mean perplexity: 22.91116714477539 \n",
            "\n",
            "Saved new model!\n",
            "\u001b[1m45/45\u001b[0m \u001b[32m━━━━━━━━━━━━━━━━━━━━\u001b[0m\u001b[37m\u001b[0m \u001b[1m5s\u001b[0m 115ms/step - loss: 2.1315\n",
            "Epoch 2/20\n",
            "\u001b[1m45/45\u001b[0m \u001b[32m━━━━━━━━━━━━━━━━━━━━\u001b[0m\u001b[37m\u001b[0m \u001b[1m0s\u001b[0m 109ms/step - loss: 2.1083\n",
            " mean perplexity: 24.08799171447754 \n",
            "\n",
            "\u001b[1m45/45\u001b[0m \u001b[32m━━━━━━━━━━━━━━━━━━━━\u001b[0m\u001b[37m\u001b[0m \u001b[1m5s\u001b[0m 116ms/step - loss: 2.1082\n",
            "Epoch 3/20\n",
            "\u001b[1m45/45\u001b[0m \u001b[32m━━━━━━━━━━━━━━━━━━━━\u001b[0m\u001b[37m\u001b[0m \u001b[1m0s\u001b[0m 105ms/step - loss: 2.0900\n",
            " mean perplexity: 24.826160430908203 \n",
            "\n",
            "\u001b[1m45/45\u001b[0m \u001b[32m━━━━━━━━━━━━━━━━━━━━\u001b[0m\u001b[37m\u001b[0m \u001b[1m5s\u001b[0m 112ms/step - loss: 2.0898\n",
            "Epoch 4/20\n",
            "\u001b[1m45/45\u001b[0m \u001b[32m━━━━━━━━━━━━━━━━━━━━\u001b[0m\u001b[37m\u001b[0m \u001b[1m0s\u001b[0m 108ms/step - loss: 2.0684\n",
            " mean perplexity: 25.242141723632812 \n",
            "\n",
            "\u001b[1m45/45\u001b[0m \u001b[32m━━━━━━━━━━━━━━━━━━━━\u001b[0m\u001b[37m\u001b[0m \u001b[1m5s\u001b[0m 115ms/step - loss: 2.0683\n",
            "Epoch 5/20\n",
            "\u001b[1m45/45\u001b[0m \u001b[32m━━━━━━━━━━━━━━━━━━━━\u001b[0m\u001b[37m\u001b[0m \u001b[1m0s\u001b[0m 105ms/step - loss: 2.0504\n",
            " mean perplexity: 25.512088775634766 \n",
            "\n",
            "\u001b[1m45/45\u001b[0m \u001b[32m━━━━━━━━━━━━━━━━━━━━\u001b[0m\u001b[37m\u001b[0m \u001b[1m5s\u001b[0m 112ms/step - loss: 2.0503\n",
            "Epoch 6/20\n",
            "\u001b[1m45/45\u001b[0m \u001b[32m━━━━━━━━━━━━━━━━━━━━\u001b[0m\u001b[37m\u001b[0m \u001b[1m0s\u001b[0m 107ms/step - loss: 2.0328\n",
            " mean perplexity: 26.45834732055664 \n",
            "\n",
            "Stopping training...\n",
            "\u001b[1m45/45\u001b[0m \u001b[32m━━━━━━━━━━━━━━━━━━━━\u001b[0m\u001b[37m\u001b[0m \u001b[1m5s\u001b[0m 114ms/step - loss: 2.0327\n"
          ]
        }
      ]
    },
    {
      "cell_type": "code",
      "source": [
        "history_ppl"
      ],
      "metadata": {
        "colab": {
          "base_uri": "https://localhost:8080/"
        },
        "id": "pqQHJ5ds1tHG",
        "outputId": "d78c489d-9bd8-4bfd-c771-56aa897d799e"
      },
      "execution_count": 39,
      "outputs": [
        {
          "output_type": "execute_result",
          "data": {
            "text/plain": [
              "[np.float32(22.911167),\n",
              " np.float32(24.087992),\n",
              " np.float32(24.82616),\n",
              " np.float32(25.242142),\n",
              " np.float32(25.512089),\n",
              " np.float32(26.458347)]"
            ]
          },
          "metadata": {},
          "execution_count": 39
        }
      ]
    },
    {
      "cell_type": "code",
      "source": [
        "import matplotlib.pyplot as plt\n",
        "import seaborn as sns\n",
        "\n",
        "# Entrenamiento\n",
        "epoch_count = range(1, len(history_ppl) + 1)\n",
        "sns.lineplot(x=epoch_count,  y= history_ppl)\n",
        "plt.show()"
      ],
      "metadata": {
        "colab": {
          "base_uri": "https://localhost:8080/",
          "height": 430
        },
        "id": "lfErgXp_06mF",
        "outputId": "ed0cdd1a-fa0e-4cec-8344-c0f7f13442fe"
      },
      "execution_count": 40,
      "outputs": [
        {
          "output_type": "display_data",
          "data": {
            "text/plain": [
              "<Figure size 640x480 with 1 Axes>"
            ],
            "image/png": "[encoded data removed]"
          },
          "metadata": {}
        }
      ]
    },
    {
      "cell_type": "code",
      "source": [
        "# fiteamos, nótese el agregado del callback con su inicialización. El batch_size lo podemos seleccionar a mano\n",
        "# en general, lo mejor es escoger el batch más grande posible que minimice el tiempo de cada época.\n",
        "# En la variable `history_ppl` se guardarán los valores de perplejidad para cada época.\n",
        "history_ppl = []\n",
        "hist = model_GRU.fit(X, y, epochs=20, callbacks=[PplCallback(tokenized_sentences_val,history_ppl)], batch_size=256)"
      ],
      "metadata": {
        "colab": {
          "base_uri": "https://localhost:8080/"
        },
        "id": "WmTJ7zCO1DVr",
        "outputId": "8b27cbd8-2297-4102-866c-05af6ce076a7"
      },
      "execution_count": 41,
      "outputs": [
        {
          "output_type": "stream",
          "name": "stdout",
          "text": [
            "Epoch 1/20\n",
            "\u001b[1m45/45\u001b[0m \u001b[32m━━━━━━━━━━━━━━━━━━━━\u001b[0m\u001b[37m\u001b[0m \u001b[1m0s\u001b[0m 98ms/step - loss: 3.6333\n",
            " mean perplexity: 26.73996925354004 \n",
            "\n",
            "Saved new model!\n",
            "\u001b[1m45/45\u001b[0m \u001b[32m━━━━━━━━━━━━━━━━━━━━\u001b[0m\u001b[37m\u001b[0m \u001b[1m12s\u001b[0m 155ms/step - loss: 3.6264\n",
            "Epoch 2/20\n",
            "\u001b[1m45/45\u001b[0m \u001b[32m━━━━━━━━━━━━━━━━━━━━\u001b[0m\u001b[37m\u001b[0m \u001b[1m0s\u001b[0m 100ms/step - loss: 2.9000\n",
            " mean perplexity: 21.901653289794922 \n",
            "\n",
            "Saved new model!\n",
            "\u001b[1m45/45\u001b[0m \u001b[32m━━━━━━━━━━━━━━━━━━━━\u001b[0m\u001b[37m\u001b[0m \u001b[1m5s\u001b[0m 108ms/step - loss: 2.8984\n",
            "Epoch 3/20\n",
            "\u001b[1m45/45\u001b[0m \u001b[32m━━━━━━━━━━━━━━━━━━━━\u001b[0m\u001b[37m\u001b[0m \u001b[1m0s\u001b[0m 99ms/step - loss: 2.5854\n",
            " mean perplexity: 19.938962936401367 \n",
            "\n",
            "Saved new model!\n",
            "\u001b[1m45/45\u001b[0m \u001b[32m━━━━━━━━━━━━━━━━━━━━\u001b[0m\u001b[37m\u001b[0m \u001b[1m5s\u001b[0m 107ms/step - loss: 2.5840\n",
            "Epoch 4/20\n",
            "\u001b[1m45/45\u001b[0m \u001b[32m━━━━━━━━━━━━━━━━━━━━\u001b[0m\u001b[37m\u001b[0m \u001b[1m0s\u001b[0m 100ms/step - loss: 2.3693\n",
            " mean perplexity: 21.234539031982422 \n",
            "\n",
            "\u001b[1m45/45\u001b[0m \u001b[32m━━━━━━━━━━━━━━━━━━━━\u001b[0m\u001b[37m\u001b[0m \u001b[1m5s\u001b[0m 108ms/step - loss: 2.3687\n",
            "Epoch 5/20\n",
            "\u001b[1m45/45\u001b[0m \u001b[32m━━━━━━━━━━━━━━━━━━━━\u001b[0m\u001b[37m\u001b[0m \u001b[1m0s\u001b[0m 98ms/step - loss: 2.2550\n",
            " mean perplexity: 23.183712005615234 \n",
            "\n",
            "\u001b[1m45/45\u001b[0m \u001b[32m━━━━━━━━━━━━━━━━━━━━\u001b[0m\u001b[37m\u001b[0m \u001b[1m5s\u001b[0m 105ms/step - loss: 2.2546\n",
            "Epoch 6/20\n",
            "\u001b[1m45/45\u001b[0m \u001b[32m━━━━━━━━━━━━━━━━━━━━\u001b[0m\u001b[37m\u001b[0m \u001b[1m0s\u001b[0m 100ms/step - loss: 2.1770\n",
            " mean perplexity: 24.857805252075195 \n",
            "\n",
            "\u001b[1m45/45\u001b[0m \u001b[32m━━━━━━━━━━━━━━━━━━━━\u001b[0m\u001b[37m\u001b[0m \u001b[1m5s\u001b[0m 107ms/step - loss: 2.1767\n",
            "Epoch 7/20\n",
            "\u001b[1m45/45\u001b[0m \u001b[32m━━━━━━━━━━━━━━━━━━━━\u001b[0m\u001b[37m\u001b[0m \u001b[1m0s\u001b[0m 97ms/step - loss: 2.1168\n",
            " mean perplexity: 26.351022720336914 \n",
            "\n",
            "\u001b[1m45/45\u001b[0m \u001b[32m━━━━━━━━━━━━━━━━━━━━\u001b[0m\u001b[37m\u001b[0m \u001b[1m5s\u001b[0m 104ms/step - loss: 2.1166\n",
            "Epoch 8/20\n",
            "\u001b[1m45/45\u001b[0m \u001b[32m━━━━━━━━━━━━━━━━━━━━\u001b[0m\u001b[37m\u001b[0m \u001b[1m0s\u001b[0m 98ms/step - loss: 2.0655\n",
            " mean perplexity: 28.657638549804688 \n",
            "\n",
            "Stopping training...\n",
            "\u001b[1m45/45\u001b[0m \u001b[32m━━━━━━━━━━━━━━━━━━━━\u001b[0m\u001b[37m\u001b[0m \u001b[1m5s\u001b[0m 105ms/step - loss: 2.0652\n"
          ]
        }
      ]
    },
    {
      "cell_type": "code",
      "source": [
        "import matplotlib.pyplot as plt\n",
        "import seaborn as sns\n",
        "\n",
        "# Entrenamiento\n",
        "epoch_count = range(1, len(history_ppl) + 1)\n",
        "sns.lineplot(x=epoch_count,  y= history_ppl)\n",
        "plt.show()"
      ],
      "metadata": {
        "colab": {
          "base_uri": "https://localhost:8080/",
          "height": 430
        },
        "id": "CaFhDq3H2J9t",
        "outputId": "4f3b1f7a-658a-44c4-c360-119fa5a81083"
      },
      "execution_count": 42,
      "outputs": [
        {
          "output_type": "display_data",
          "data": {
            "text/plain": [
              "<Figure size 640x480 with 1 Axes>"
            ],
            "image/png": "[encoded data removed]"
          },
          "metadata": {}
        }
      ]
    },
    {
      "cell_type": "markdown",
      "metadata": {
        "id": "KN6Fg_BsxJe6"
      },
      "source": [
        "\n",
        "### Predicción del próximo caracter"
      ]
    },
    {
      "cell_type": "code",
      "execution_count": 43,
      "metadata": {
        "id": "IBvKHFPmzpy2",
        "colab": {
          "base_uri": "https://localhost:8080/"
        },
        "outputId": "ab5b90ac-0713-493b-c26a-5a3210ecf0f4"
      },
      "outputs": [
        {
          "output_type": "stream",
          "name": "stdout",
          "text": [
            "\u001b[2K   \u001b[90m━━━━━━━━━━━━━━━━━━━━━━━━━━━━━━━━━━━━━━━━\u001b[0m \u001b[32m54.2/54.2 MB\u001b[0m \u001b[31m47.5 MB/s\u001b[0m eta \u001b[36m0:00:00\u001b[0m\n",
            "\u001b[2K   \u001b[90m━━━━━━━━━━━━━━━━━━━━━━━━━━━━━━━━━━━━━━━━\u001b[0m \u001b[32m323.1/323.1 kB\u001b[0m \u001b[31m28.8 MB/s\u001b[0m eta \u001b[36m0:00:00\u001b[0m\n",
            "\u001b[2K   \u001b[90m━━━━━━━━━━━━━━━━━━━━━━━━━━━━━━━━━━━━━━━━\u001b[0m \u001b[32m95.2/95.2 kB\u001b[0m \u001b[31m8.8 MB/s\u001b[0m eta \u001b[36m0:00:00\u001b[0m\n",
            "\u001b[2K   \u001b[90m━━━━━━━━━━━━━━━━━━━━━━━━━━━━━━━━━━━━━━━━\u001b[0m \u001b[32m11.5/11.5 MB\u001b[0m \u001b[31m128.7 MB/s\u001b[0m eta \u001b[36m0:00:00\u001b[0m\n",
            "\u001b[2K   \u001b[90m━━━━━━━━━━━━━━━━━━━━━━━━━━━━━━━━━━━━━━━━\u001b[0m \u001b[32m72.0/72.0 kB\u001b[0m \u001b[31m7.1 MB/s\u001b[0m eta \u001b[36m0:00:00\u001b[0m\n",
            "\u001b[2K   \u001b[90m━━━━━━━━━━━━━━━━━━━━━━━━━━━━━━━━━━━━━━━━\u001b[0m \u001b[32m62.5/62.5 kB\u001b[0m \u001b[31m4.9 MB/s\u001b[0m eta \u001b[36m0:00:00\u001b[0m\n",
            "\u001b[?25h"
          ]
        }
      ],
      "source": [
        "# Se puede usar gradio para probar el modelo\n",
        "# Gradio es una herramienta muy útil para crear interfaces para ensayar modelos\n",
        "# https://gradio.app/\n",
        "\n",
        "!pip install -q gradio"
      ]
    },
    {
      "cell_type": "code",
      "execution_count": 44,
      "metadata": {
        "id": "HNyBykvhzs7-",
        "colab": {
          "base_uri": "https://localhost:8080/",
          "height": 698
        },
        "outputId": "4e23c6ec-f59a-4714-cf23-7220fe9aa6ee"
      },
      "outputs": [
        {
          "output_type": "stream",
          "name": "stdout",
          "text": [
            "It looks like you are running Gradio on a hosted a Jupyter notebook. For the Gradio app to work, sharing must be enabled. Automatically setting `share=True` (you can turn this off by setting `share=False` in `launch()` explicitly).\n",
            "\n",
            "Colab notebook detected. This cell will run indefinitely so that you can see errors and logs. To turn off, set debug=False in launch().\n",
            "* Running on public URL: https://06baebb5cbd143d225.gradio.live\n",
            "\n",
            "This share link expires in 1 week. For free permanent hosting and GPU upgrades, run `gradio deploy` from the terminal in the working directory to deploy to Hugging Face Spaces (https://huggingface.co/spaces)\n"
          ]
        },
        {
          "output_type": "display_data",
          "data": {
            "text/plain": [
              "<IPython.core.display.HTML object>"
            ],
            "text/html": [
              "<div><iframe src=\"https://06baebb5cbd143d225.gradio.live\" width=\"100%\" height=\"500\" allow=\"autoplay; camera; microphone; clipboard-read; clipboard-write;\" frameborder=\"0\" allowfullscreen></iframe></div>"
            ]
          },
          "metadata": {}
        },
        {
          "output_type": "stream",
          "name": "stdout",
          "text": [
            "\u001b[1m1/1\u001b[0m \u001b[32m━━━━━━━━━━━━━━━━━━━━\u001b[0m\u001b[37m\u001b[0m \u001b[1m2s\u001b[0m 2s/step\n",
            "Keyboard interruption in main thread... closing server.\n",
            "Killing tunnel 127.0.0.1:7860 <> https://06baebb5cbd143d225.gradio.live\n"
          ]
        },
        {
          "output_type": "execute_result",
          "data": {
            "text/plain": []
          },
          "metadata": {},
          "execution_count": 44
        }
      ],
      "source": [
        "import gradio as gr\n",
        "\n",
        "def model_response(human_text):\n",
        "\n",
        "    # Encodeamos\n",
        "    encoded = [char2idx[ch] for ch in human_text.lower() ]\n",
        "    # Si tienen distinto largo\n",
        "    encoded = pad_sequences([encoded], maxlen=max_context_size, padding='pre')\n",
        "\n",
        "    # Predicción softmax\n",
        "    y_hat = np.argmax(model.predict(encoded)[0,-1,:])\n",
        "\n",
        "\n",
        "    # Debemos buscar en el vocabulario el caracter\n",
        "    # que corresopnde al indice (y_hat) predicho por le modelo\n",
        "    out_word = ''\n",
        "    out_word = idx2char[y_hat]\n",
        "\n",
        "    # Agrego la palabra a la frase predicha\n",
        "    return human_text + out_word\n",
        "\n",
        "iface = gr.Interface(\n",
        "    fn=model_response,\n",
        "    inputs=[\"textbox\"],\n",
        "    outputs=\"text\")\n",
        "\n",
        "iface.launch(debug=True)"
      ]
    },
    {
      "cell_type": "markdown",
      "metadata": {
        "id": "mCeMWWupxN1-"
      },
      "source": [
        "### Generación de secuencias"
      ]
    },
    {
      "cell_type": "code",
      "execution_count": 45,
      "metadata": {
        "id": "bwbS_pfhxvB3"
      },
      "outputs": [],
      "source": [
        "def generate_seq(model, seed_text, max_length, n_words):\n",
        "    \"\"\"\n",
        "        Exec model sequence prediction\n",
        "\n",
        "        Args:\n",
        "            model (keras): modelo entrenado\n",
        "            seed_text (string): texto de entrada (input_seq)\n",
        "            max_length (int): máxima longitud de la sequencia de entrada\n",
        "            n_words (int): números de caracteres a agregar a la sequencia de entrada\n",
        "        returns:\n",
        "            output_text (string): sentencia con las \"n_words\" agregadas\n",
        "    \"\"\"\n",
        "    output_text = seed_text\n",
        "\t# generate a fixed number of words\n",
        "    for _ in range(n_words):\n",
        "\t\t# Encodeamos\n",
        "        encoded = [char2idx[ch] for ch in output_text.lower() ]\n",
        "\t\t# Si tienen distinto largo\n",
        "        encoded = pad_sequences([encoded], maxlen=max_length, padding='pre')\n",
        "\n",
        "\t\t# Predicción softmax\n",
        "        y_hat = np.argmax(model.predict(encoded,verbose=0)[0,-1,:])\n",
        "\t\t# Vamos concatenando las predicciones\n",
        "        out_word = ''\n",
        "\n",
        "        out_word = idx2char[y_hat]\n",
        "\n",
        "\t\t# Agrego las palabras a la frase predicha\n",
        "        output_text += out_word\n",
        "    return output_text"
      ]
    },
    {
      "cell_type": "code",
      "execution_count": 47,
      "metadata": {
        "id": "JoFqRC5pxzqS",
        "colab": {
          "base_uri": "https://localhost:8080/",
          "height": 36
        },
        "outputId": "2fb9081f-6d32-46e2-84b9-7aa71faa5c2c"
      },
      "outputs": [
        {
          "output_type": "execute_result",
          "data": {
            "text/plain": [
              "'penetrante capacidad de la minte e'"
            ],
            "application/vnd.google.colaboratory.intrinsic+json": {
              "type": "string"
            }
          },
          "metadata": {},
          "execution_count": 47
        }
      ],
      "source": [
        "input_text='penetrante capacidad de '\n",
        "\n",
        "generate_seq(model, input_text, max_length= max_context_size, n_words=10)"
      ]
    },
    {
      "cell_type": "markdown",
      "metadata": {
        "id": "drJ6xn5qW1Hl"
      },
      "source": [
        "###  Beam search y muestreo aleatorio"
      ]
    },
    {
      "cell_type": "code",
      "execution_count": 48,
      "metadata": {
        "id": "_vovn9XZW1Hl"
      },
      "outputs": [],
      "source": [
        "# funcionalidades para hacer encoding y decoding\n",
        "\n",
        "def encode(text,max_length=max_context_size):\n",
        "\n",
        "    encoded = [char2idx[ch] for ch in text]\n",
        "    encoded = pad_sequences([encoded], maxlen=max_length, padding='pre')\n",
        "\n",
        "    return encoded\n",
        "\n",
        "def decode(seq):\n",
        "    return ''.join([idx2char[ch] for ch in seq])"
      ]
    },
    {
      "cell_type": "code",
      "execution_count": 49,
      "metadata": {
        "id": "I_lZiQwkW1Hl"
      },
      "outputs": [],
      "source": [
        "from scipy.special import softmax\n",
        "\n",
        "# función que selecciona candidatos para el beam search\n",
        "def select_candidates(pred,num_beams,vocab_size,history_probs,history_tokens,temp,mode):\n",
        "\n",
        "  # colectar todas las probabilidades para la siguiente búsqueda\n",
        "  pred_large = []\n",
        "\n",
        "  for idx,pp in enumerate(pred):\n",
        "    pred_large.extend(np.log(pp+1E-10)+history_probs[idx])\n",
        "\n",
        "  pred_large = np.array(pred_large)\n",
        "\n",
        "  # criterio de selección\n",
        "  if mode == 'det':\n",
        "    idx_select = np.argsort(pred_large)[::-1][:num_beams] # beam search determinista\n",
        "  elif mode == 'sto':\n",
        "    idx_select = np.random.choice(np.arange(pred_large.shape[0]), num_beams, p=softmax(pred_large/temp)) # beam search con muestreo aleatorio\n",
        "  else:\n",
        "    raise ValueError(f'Wrong selection mode. {mode} was given. det and sto are supported.')\n",
        "\n",
        "  # traducir a índices de token en el vocabulario\n",
        "  new_history_tokens = np.concatenate((np.array(history_tokens)[idx_select//vocab_size],\n",
        "                        np.array([idx_select%vocab_size]).T),\n",
        "                      axis=1)\n",
        "\n",
        "  # devolver el producto de las probabilidades (log) y la secuencia de tokens seleccionados\n",
        "  return pred_large[idx_select.astype(int)], new_history_tokens.astype(int)\n",
        "\n",
        "\n",
        "def beam_search(model,num_beams,num_words,input,temp=1,mode='det'):\n",
        "\n",
        "    # first iteration\n",
        "\n",
        "    # encode\n",
        "    encoded = encode(input)\n",
        "\n",
        "    # first prediction\n",
        "    y_hat = model.predict(encoded,verbose=0)[0,-1,:]\n",
        "\n",
        "    # get vocabulary size\n",
        "    vocab_size = y_hat.shape[0]\n",
        "\n",
        "    # initialize history\n",
        "    history_probs = [0]*num_beams\n",
        "    history_tokens = [encoded[0]]*num_beams\n",
        "\n",
        "    # select num_beams candidates\n",
        "    history_probs, history_tokens = select_candidates([y_hat],\n",
        "                                        num_beams,\n",
        "                                        vocab_size,\n",
        "                                        history_probs,\n",
        "                                        history_tokens,\n",
        "                                        temp,\n",
        "                                        mode)\n",
        "\n",
        "    # beam search loop\n",
        "    for i in range(num_words-1):\n",
        "\n",
        "      preds = []\n",
        "\n",
        "      for hist in history_tokens:\n",
        "\n",
        "        # actualizar secuencia de tokens\n",
        "        input_update = np.array([hist[i+1:]]).copy()\n",
        "\n",
        "        # predicción\n",
        "        y_hat = model.predict(input_update,verbose=0)[0,-1,:]\n",
        "\n",
        "        preds.append(y_hat)\n",
        "\n",
        "      history_probs, history_tokens = select_candidates(preds,\n",
        "                                                        num_beams,\n",
        "                                                        vocab_size,\n",
        "                                                        history_probs,\n",
        "                                                        history_tokens,\n",
        "                                                        temp,\n",
        "                                                        mode)\n",
        "\n",
        "    return history_tokens[:,-(len(input)+num_words):]"
      ]
    },
    {
      "cell_type": "code",
      "execution_count": 51,
      "metadata": {
        "id": "GeLqAoOYW1Hm"
      },
      "outputs": [],
      "source": [
        "# predicción con beam search\n",
        "salidas = beam_search(model,num_beams=10,num_words=20,input=\"penetrante capacidad de \")"
      ]
    },
    {
      "cell_type": "code",
      "execution_count": 53,
      "metadata": {
        "id": "P8HQoLhw-NYg",
        "colab": {
          "base_uri": "https://localhost:8080/"
        },
        "outputId": "8d4b1dd5-2496-41e8-d0ed-a11dbe7d1127"
      },
      "outputs": [
        {
          "output_type": "execute_result",
          "data": {
            "text/plain": [
              "array([45, 10, 14, 10, 34, 25, 13, 14, 34, 10, 22,  5, 13, 45, 13,  5, 40,\n",
              "       28, 13, 28, 22, 28, 10, 22, 43, 13, 26, 44, 13, 22, 50, 17, 10, 22,\n",
              "       43, 13, 26, 44, 13, 22, 50, 17, 10, 22])"
            ]
          },
          "metadata": {},
          "execution_count": 53
        }
      ],
      "source": [
        "salidas[0]"
      ]
    },
    {
      "cell_type": "code",
      "execution_count": 54,
      "metadata": {
        "id": "2S3_I3S1W1Hm",
        "colab": {
          "base_uri": "https://localhost:8080/",
          "height": 36
        },
        "outputId": "599acbdb-ca97-4bde-af4d-f7c592a6d026"
      },
      "outputs": [
        {
          "output_type": "execute_result",
          "data": {
            "text/plain": [
              "'penetrante capacidad de había que había que '"
            ],
            "application/vnd.google.colaboratory.intrinsic+json": {
              "type": "string"
            }
          },
          "metadata": {},
          "execution_count": 54
        }
      ],
      "source": [
        "# veamos las salidas\n",
        "decode(salidas[0])"
      ]
    },
    {
      "cell_type": "markdown",
      "metadata": {
        "id": "Q_LlqmtEW1Hn"
      },
      "source": [
        "#**Resumen Modelos**"
      ]
    },
    {
      "cell_type": "markdown",
      "source": [
        "| Modelo        | Parámetros | Perplejidad inicial ↘ | Perplejidad final ↗ | Comportamiento                                 | Tamaño | Observaciones                                                  |\n",
        "| ------------- | ---------- | --------------------- | ------------------- | ---------------------------------------------- | ------ | -------------------------------------------------------------- |\n",
        "| **SimpleRNN** | 62,656     | 25 → 18               | 23                  | Buena convergencia inicial, pero luego repunta | 56     | Bajo costo computacional, pero limitada capacidad de retención |\n",
        "| **LSTM**      | 68,456     | 23 → 26.5             | Sigue en ascenso    | No logra converger bien, alto costo            | 56     | Lenta convergencia, peor generalización en este setup          |\n",
        "| **GRU**       | 166,056    | 27 → 20               | 28.5                | Curva en U pero rebota con overfitting         | 56     | Mejora inicial fuerte, pero sobreajuste al final               |\n"
      ],
      "metadata": {
        "id": "Rp67wQR-4V9j"
      }
    },
    {
      "cell_type": "markdown",
      "source": [
        "Probamos tres modelos distintos para predecir caracteres en un texto: SimpleRNN, LSTM y GRU. Los tres se entrenaron con el mismo conjunto de datos y estructura general, pero cambian en cómo manejan la memoria interna.\n",
        "\n",
        "Use texto de “La vuelta al mundo en 80 días”.\n",
        "\n",
        "Arme secuencias de entrenamiento con 60 caracteres de contexto.\n",
        "\n",
        "Se midio cómo bajaba la perplejidad, que indica qué tan bien el modelo predice el siguiente carácter (cuanto más baja, mejor).\n",
        "\n",
        "Probe la generación de texto con greedy y con beam search.\n",
        "\n",
        "Resultados\n",
        "1. SimpleRNN\n",
        "Parámetros: 62.656\n",
        "\n",
        "Curva: bajó rápido la perplejidad (de 25 a 18), pero después volvió a subir a 23.\n",
        "\n",
        "Velocidad: fue el modelo más rápido de entrenar.\n",
        "\n",
        "\n",
        "Comentario: rinde bien en tareas simples, pero se le complica recordar estructuras más largas. Cuando le dimos más contexto no mejoró, al contrario.\n",
        "\n",
        "2. LSTM\n",
        "Parámetros: 68.456\n",
        "\n",
        "Curva: arrancó con 23 y fue subiendo hasta 26.5. No mejoró con el tiempo.\n",
        "\n",
        "Velocidad: más lento en entrenar.\n",
        "\n",
        "\n",
        "Comentario: Aunque LSTM es más potente en teoría, en este caso no rindió bien. Parece que con esta cantidad de datos o configuración, le cuesta generalizar.\n",
        "\n",
        "3. GRU\n",
        "Parámetros: 166.056\n",
        "\n",
        "Curva: bajó bien al principio (de 27 a 20) pero después volvió a subir a 28.5.\n",
        "\n",
        "Velocidad: más lento que los otros dos.\n",
        "\n",
        "Comentario: parecía el más prometedor, pero al final sobreajustó (overfitting). Necesita más control con early stopping o regularización.\n",
        "\n",
        "**Conclusión general**\n",
        "SimpleRNN fue el más estable al principio, ideal para prototipos rápidos. Pero no escala bien con más contexto.\n",
        "\n",
        "LSTM no rindió en esta prueba. Se entrena lento y no bajó bien la perplejidad.\n",
        "\n",
        "GRU mostró buen potencial, pero podría ser el mejor."
      ],
      "metadata": {
        "id": "5zGakKCL4uhB"
      }
    },
    {
      "cell_type": "markdown",
      "source": [],
      "metadata": {
        "id": "gsC-ofNA5oHO"
      }
    },
    {
      "cell_type": "code",
      "source": [],
      "metadata": {
        "id": "gjYg6YsC5CIZ"
      },
      "execution_count": null,
      "outputs": []
    },
    {
      "cell_type": "code",
      "source": [],
      "metadata": {
        "id": "vRN_HUik4wm8"
      },
      "execution_count": null,
      "outputs": []
    }
  ],
  "metadata": {
    "accelerator": "GPU",
    "colab": {
      "gpuType": "T4",
      "provenance": [],
      "machine_shape": "hm"
    },
    "kernelspec": {
      "display_name": "Python 3",
      "name": "python3"
    },
    "language_info": {
      "name": "python"
    }
  },
  "nbformat": 4,
  "nbformat_minor": 0
}